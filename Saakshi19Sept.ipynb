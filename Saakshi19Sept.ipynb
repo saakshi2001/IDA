{
 "cells": [
  {
   "cell_type": "markdown",
   "metadata": {
    "application/vnd.databricks.v1+cell": {
     "cellMetadata": {},
     "inputWidgets": {},
     "nuid": "32f02748-b8bf-423b-bb93-a09b203ef179",
     "showTitle": false,
     "title": ""
    }
   },
   "source": [
    "\n",
    "Types of arguments:\n",
    "    1.positional \n",
    "    2.keyword \n",
    "    3.Default\n",
    "    4.Variable Length"
   ]
  },
  {
   "cell_type": "code",
   "execution_count": 0,
   "metadata": {
    "application/vnd.databricks.v1+cell": {
     "cellMetadata": {},
     "inputWidgets": {},
     "nuid": "c54fc41c-d5bd-49d8-9409-e903b7fd3011",
     "showTitle": false,
     "title": ""
    }
   },
   "outputs": [],
   "source": [
    "def add(a,b):\n",
    "    return a+b"
   ]
  },
  {
   "cell_type": "code",
   "execution_count": 0,
   "metadata": {
    "application/vnd.databricks.v1+cell": {
     "cellMetadata": {},
     "inputWidgets": {},
     "nuid": "1dba8377-111f-429c-95b9-a1169d0c5b48",
     "showTitle": false,
     "title": ""
    }
   },
   "outputs": [],
   "source": [
    "add(10,5) #positional argument"
   ]
  },
  {
   "cell_type": "code",
   "execution_count": 0,
   "metadata": {
    "application/vnd.databricks.v1+cell": {
     "cellMetadata": {},
     "inputWidgets": {},
     "nuid": "ddae0002-6c5b-4bd0-a1f9-b343f6ba5f58",
     "showTitle": false,
     "title": ""
    }
   },
   "outputs": [],
   "source": [
    "def sub(a,b):\n",
    "    return a-b;"
   ]
  },
  {
   "cell_type": "code",
   "execution_count": 0,
   "metadata": {
    "application/vnd.databricks.v1+cell": {
     "cellMetadata": {},
     "inputWidgets": {},
     "nuid": "31460a81-b67c-46dd-af89-255969d28374",
     "showTitle": false,
     "title": ""
    }
   },
   "outputs": [],
   "source": [
    "sub(5,9) #normal\n",
    "sub(b=9,a=5) #keyword argument"
   ]
  },
  {
   "cell_type": "code",
   "execution_count": 0,
   "metadata": {
    "application/vnd.databricks.v1+cell": {
     "cellMetadata": {},
     "inputWidgets": {},
     "nuid": "9b307674-1929-4177-af88-0f43e20123e9",
     "showTitle": false,
     "title": ""
    }
   },
   "outputs": [],
   "source": [
    "def sum(a=2,b=3): #Default argument\n",
    "    return a+b"
   ]
  },
  {
   "cell_type": "code",
   "execution_count": 0,
   "metadata": {
    "application/vnd.databricks.v1+cell": {
     "cellMetadata": {},
     "inputWidgets": {},
     "nuid": "4e435b61-1d02-4e89-a3fd-481f30ed091f",
     "showTitle": false,
     "title": ""
    }
   },
   "outputs": [],
   "source": [
    "sum(5,7)"
   ]
  },
  {
   "cell_type": "code",
   "execution_count": 0,
   "metadata": {
    "application/vnd.databricks.v1+cell": {
     "cellMetadata": {},
     "inputWidgets": {},
     "nuid": "2a531d83-79b3-47fb-b6dc-62506e0707c8",
     "showTitle": false,
     "title": ""
    }
   },
   "outputs": [],
   "source": [
    "range(10)"
   ]
  },
  {
   "cell_type": "code",
   "execution_count": 0,
   "metadata": {
    "application/vnd.databricks.v1+cell": {
     "cellMetadata": {},
     "inputWidgets": {},
     "nuid": "01e0db04-8910-40a4-b881-62925399c8ab",
     "showTitle": false,
     "title": ""
    }
   },
   "outputs": [],
   "source": [
    "def add1(*no): #Variable length argument\n",
    "    sum1=0\n",
    "    for i in no:\n",
    "        sum1=sum1+i\n",
    "    print(sum1)"
   ]
  },
  {
   "cell_type": "code",
   "execution_count": 0,
   "metadata": {
    "application/vnd.databricks.v1+cell": {
     "cellMetadata": {},
     "inputWidgets": {},
     "nuid": "6090159a-06e4-4f24-9dd5-e071bc4cac7d",
     "showTitle": false,
     "title": ""
    }
   },
   "outputs": [],
   "source": [
    "add1(777,90,243)"
   ]
  },
  {
   "cell_type": "code",
   "execution_count": 0,
   "metadata": {
    "application/vnd.databricks.v1+cell": {
     "cellMetadata": {},
     "inputWidgets": {},
     "nuid": "93ae1dfc-f33b-4bc2-ba5a-d00efbb41542",
     "showTitle": false,
     "title": ""
    }
   },
   "outputs": [],
   "source": [
    "add1(90,8)"
   ]
  },
  {
   "cell_type": "code",
   "execution_count": 0,
   "metadata": {
    "application/vnd.databricks.v1+cell": {
     "cellMetadata": {},
     "inputWidgets": {},
     "nuid": "1e88e5e1-7f9a-43c6-b79a-dba62a0b4cfa",
     "showTitle": false,
     "title": ""
    }
   },
   "outputs": [],
   "source": [
    "add1(777)"
   ]
  },
  {
   "cell_type": "code",
   "execution_count": 0,
   "metadata": {
    "application/vnd.databricks.v1+cell": {
     "cellMetadata": {},
     "inputWidgets": {},
     "nuid": "74df7320-f352-4791-bcfd-2f57452d5d08",
     "showTitle": false,
     "title": ""
    }
   },
   "outputs": [],
   "source": [
    "def info(**kwargs): #IMPORTANT\n",
    "    for i,j in kwargs.items():\n",
    "        print(i,\":\",j)"
   ]
  },
  {
   "cell_type": "code",
   "execution_count": 0,
   "metadata": {
    "application/vnd.databricks.v1+cell": {
     "cellMetadata": {},
     "inputWidgets": {},
     "nuid": "091e7445-a0bc-4d56-aee4-dfadf60eb5b0",
     "showTitle": false,
     "title": ""
    }
   },
   "outputs": [],
   "source": [
    "info(name=\"John\",age=30,City=\"Mumbai\")"
   ]
  },
  {
   "cell_type": "code",
   "execution_count": 0,
   "metadata": {
    "application/vnd.databricks.v1+cell": {
     "cellMetadata": {},
     "inputWidgets": {},
     "nuid": "8cc39092-a5a2-42bc-8852-db8ac599a017",
     "showTitle": false,
     "title": ""
    }
   },
   "outputs": [],
   "source": [
    "info(name=\"John\",age=30,City=\"Mumbai\",Dept=\"IT\")"
   ]
  },
  {
   "cell_type": "code",
   "execution_count": 0,
   "metadata": {
    "application/vnd.databricks.v1+cell": {
     "cellMetadata": {},
     "inputWidgets": {},
     "nuid": "c0fbb412-b624-4f54-a613-2de90089a3f6",
     "showTitle": false,
     "title": ""
    }
   },
   "outputs": [],
   "source": [
    "def person(name, *arg):\n",
    "    print(name)\n",
    "    print(arg)"
   ]
  },
  {
   "cell_type": "code",
   "execution_count": 0,
   "metadata": {
    "application/vnd.databricks.v1+cell": {
     "cellMetadata": {},
     "inputWidgets": {},
     "nuid": "dec16de7-d02f-4ae2-84a7-bd0f7aedd9b6",
     "showTitle": false,
     "title": ""
    }
   },
   "outputs": [],
   "source": [
    "person(\"Paul\",30,\"IT\",76500,\"Bangalore\")"
   ]
  },
  {
   "cell_type": "code",
   "execution_count": 0,
   "metadata": {
    "application/vnd.databricks.v1+cell": {
     "cellMetadata": {},
     "inputWidgets": {},
     "nuid": "a1fbb2d2-6978-452d-88e7-5c749d98a810",
     "showTitle": false,
     "title": ""
    }
   },
   "outputs": [],
   "source": [
    "def person(name, **arg):\n",
    "    print(name)\n",
    "    print(arg)"
   ]
  },
  {
   "cell_type": "code",
   "execution_count": 0,
   "metadata": {
    "application/vnd.databricks.v1+cell": {
     "cellMetadata": {},
     "inputWidgets": {},
     "nuid": "c3e087f7-71ce-4e0c-8942-8e785d4b8b3d",
     "showTitle": false,
     "title": ""
    }
   },
   "outputs": [],
   "source": [
    "person(name=\"John\",age=30,City=\"Mumbai\",Dept=\"IT\") #works cuz of **arg"
   ]
  },
  {
   "cell_type": "markdown",
   "metadata": {
    "application/vnd.databricks.v1+cell": {
     "cellMetadata": {},
     "inputWidgets": {},
     "nuid": "92a5e858-7516-47e1-9d48-1232f4250af9",
     "showTitle": false,
     "title": ""
    }
   },
   "source": [
    "Task: Oil and Gas Equipment and Drilling Site Management System\n",
    "\n",
    " \n",
    "\n",
    "You are tasked with developing a Python program for an oil and gas company to manage their drilling equipment and drilling sites. The program should use *args and **kwargs to provide flexibility in adding and searching for equipment and sites. Here are the tasks you need to complete:\n",
    "Create a Python script that defines empty lists for drilling equipment and drilling sites.\n",
    "\n",
    " \n",
    "\n",
    "Implement a function add_equipment that takes the following parameters:\n",
    "\n",
    " \n",
    "\n",
    "equipment_type (string): The type of equipment being added.\n",
    "*args (tuple): Additional details about the equipment (e.g., model, power, capacity).\n",
    "**kwargs (dictionary): Additional attributes of the equipment (e.g., vendor, power source).\n",
    "The function should create a dictionary representing the equipment, including its type, details (from *args), and attributes (from **kwargs). Then, it should append this dictionary to the drilling_equipment list."
   ]
  },
  {
   "cell_type": "code",
   "execution_count": 0,
   "metadata": {
    "application/vnd.databricks.v1+cell": {
     "cellMetadata": {},
     "inputWidgets": {},
     "nuid": "491281c4-3065-44c0-901e-48624e98d13f",
     "showTitle": false,
     "title": ""
    }
   },
   "outputs": [],
   "source": [
    "drillingequipment=[]\n",
    "drillingsites=[]"
   ]
  },
  {
   "cell_type": "code",
   "execution_count": 0,
   "metadata": {
    "application/vnd.databricks.v1+cell": {
     "cellMetadata": {},
     "inputWidgets": {},
     "nuid": "6f9c8a9b-5363-4b2c-9d54-52496dddb81f",
     "showTitle": false,
     "title": ""
    }
   },
   "outputs": [],
   "source": [
    "def add_equipment(equipment_type,*args,**kwargs):\n",
    "    print(equipment_type)\n",
    "    print(args)\n",
    "    print(kwargs)\n",
    "    return kwargs"
   ]
  },
  {
   "cell_type": "code",
   "execution_count": 0,
   "metadata": {
    "application/vnd.databricks.v1+cell": {
     "cellMetadata": {},
     "inputWidgets": {},
     "nuid": "cc8fee91-1237-4837-ad22-30b3604e6778",
     "showTitle": false,
     "title": ""
    }
   },
   "outputs": [],
   "source": [
    "\n",
    "kwargs=add_equipment(\"Drilling Machine\",\"AK2201\",4500,60,vendor=\"Shell\",power_source=\"The Hague\")"
   ]
  },
  {
   "cell_type": "code",
   "execution_count": 0,
   "metadata": {
    "application/vnd.databricks.v1+cell": {
     "cellMetadata": {},
     "inputWidgets": {},
     "nuid": "768363e8-739a-454b-86dc-62ebf98eb2b9",
     "showTitle": false,
     "title": ""
    }
   },
   "outputs": [],
   "source": [
    "drillingequipment.append(kwargs)"
   ]
  },
  {
   "cell_type": "code",
   "execution_count": 0,
   "metadata": {
    "application/vnd.databricks.v1+cell": {
     "cellMetadata": {},
     "inputWidgets": {},
     "nuid": "2f28acd7-1e23-4eee-a916-a85ce6b28342",
     "showTitle": false,
     "title": ""
    }
   },
   "outputs": [],
   "source": [
    "print(drillingequipment)"
   ]
  },
  {
   "cell_type": "code",
   "execution_count": 0,
   "metadata": {
    "application/vnd.databricks.v1+cell": {
     "cellMetadata": {},
     "inputWidgets": {},
     "nuid": "2caab075-875d-4d1b-9ef3-389f192302e2",
     "showTitle": false,
     "title": ""
    }
   },
   "outputs": [],
   "source": [
    "drillingequipment1=[]"
   ]
  },
  {
   "cell_type": "code",
   "execution_count": 0,
   "metadata": {
    "application/vnd.databricks.v1+cell": {
     "cellMetadata": {},
     "inputWidgets": {},
     "nuid": "7b6c33d2-91bf-466c-bf9f-8d85348355f3",
     "showTitle": false,
     "title": ""
    }
   },
   "outputs": [],
   "source": [
    "def add_equipment1(equipment_type,*args,**kwargs): #alternate answer\n",
    "    dict={\"equipment\":equipment_type,\"details\":args,\"attributes\":kwargs}\n",
    "    drillingequipment1.append(dict)"
   ]
  },
  {
   "cell_type": "code",
   "execution_count": 0,
   "metadata": {
    "application/vnd.databricks.v1+cell": {
     "cellMetadata": {},
     "inputWidgets": {},
     "nuid": "5cd2c697-fb07-44fd-bc1d-bca1d81079ee",
     "showTitle": false,
     "title": ""
    }
   },
   "outputs": [],
   "source": [
    "add_equipment1(\"Pump\",\"Model X\",100,10,vendor=\"D\")"
   ]
  },
  {
   "cell_type": "code",
   "execution_count": 0,
   "metadata": {
    "application/vnd.databricks.v1+cell": {
     "cellMetadata": {},
     "inputWidgets": {},
     "nuid": "4fb62129-ff36-4430-8fb3-4e7855132c7f",
     "showTitle": false,
     "title": ""
    }
   },
   "outputs": [],
   "source": [
    "print(drillingequipment1)"
   ]
  },
  {
   "cell_type": "markdown",
   "metadata": {
    "application/vnd.databricks.v1+cell": {
     "cellMetadata": {},
     "inputWidgets": {},
     "nuid": "8c5fcc4d-cc8a-4772-a62c-869fc3a140b2",
     "showTitle": false,
     "title": ""
    }
   },
   "source": [
    "Implement a function add_drilling_site with similar parameters:\n",
    "\n",
    " \n",
    "\n",
    "site_name (string): The name of the drilling site being added.\n",
    "*args (tuple): Additional details about the site (e.g., location, depth, terrain).\n",
    "**kwargs (dictionary): Additional attributes of the site (e.g., status, operator).\n",
    "The function should create a dictionary representing the site, including its name, details (from *args), and attributes (from **kwargs). Then, it should append this dictionary to the drilling_sites list."
   ]
  },
  {
   "cell_type": "code",
   "execution_count": 0,
   "metadata": {
    "application/vnd.databricks.v1+cell": {
     "cellMetadata": {},
     "inputWidgets": {},
     "nuid": "cbca8239-2398-48e6-998b-ba2ee67a965d",
     "showTitle": false,
     "title": ""
    }
   },
   "outputs": [],
   "source": [
    "def add_drilling_site(site_name,*args,**kwargs): \n",
    "    dict={\"site_name\":site_name,\"details\":args,\"attributes\":kwargs}\n",
    "    drillingsites.append(dict)"
   ]
  },
  {
   "cell_type": "code",
   "execution_count": 0,
   "metadata": {
    "application/vnd.databricks.v1+cell": {
     "cellMetadata": {},
     "inputWidgets": {},
     "nuid": "51862217-aab2-42a5-b86e-73961ec78b32",
     "showTitle": false,
     "title": ""
    }
   },
   "outputs": [],
   "source": [
    "add_drilling_site(\"Trombay\",location=\"Mumbai\",terrain=\"Water\",operator=\"Saakshi\")"
   ]
  },
  {
   "cell_type": "code",
   "execution_count": 0,
   "metadata": {
    "application/vnd.databricks.v1+cell": {
     "cellMetadata": {},
     "inputWidgets": {},
     "nuid": "f1267f6c-7d77-4cb1-9d68-3d9248ce3893",
     "showTitle": false,
     "title": ""
    }
   },
   "outputs": [],
   "source": [
    "print(drillingsites)"
   ]
  }
 ],
 "metadata": {
  "application/vnd.databricks.v1+notebook": {
   "dashboards": [],
   "language": "python",
   "notebookMetadata": {},
   "notebookName": "Saakshi19Sept",
   "widgets": {}
  },
  "kernelspec": {
   "display_name": "Python 3 (ipykernel)",
   "language": "python",
   "name": "python3"
  },
  "language_info": {
   "codemirror_mode": {
    "name": "ipython",
    "version": 3
   },
   "file_extension": ".py",
   "mimetype": "text/x-python",
   "name": "python",
   "nbconvert_exporter": "python",
   "pygments_lexer": "ipython3",
   "version": "3.11.4"
  }
 },
 "nbformat": 4,
 "nbformat_minor": 0
}
