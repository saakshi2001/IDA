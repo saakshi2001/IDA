{
 "cells": [
  {
   "cell_type": "markdown",
   "id": "e67e27c0",
   "metadata": {},
   "source": [
    "\n",
    "Types of arguments:\n",
    "    1.positional \n",
    "    2.keyword \n",
    "    3.Default\n",
    "    4.Variable Length"
   ]
  },
  {
   "cell_type": "code",
   "execution_count": 3,
   "id": "273f6d45",
   "metadata": {},
   "outputs": [],
   "source": [
    "def add(a,b):\n",
    "    return a+b"
   ]
  },
  {
   "cell_type": "code",
   "execution_count": 4,
   "id": "d45bf4c7",
   "metadata": {},
   "outputs": [
    {
     "data": {
      "text/plain": [
       "15"
      ]
     },
     "execution_count": 4,
     "metadata": {},
     "output_type": "execute_result"
    }
   ],
   "source": [
    "add(10,5) #positional argument"
   ]
  },
  {
   "cell_type": "code",
   "execution_count": 5,
   "id": "4334771d",
   "metadata": {},
   "outputs": [],
   "source": [
    "def sub(a,b):\n",
    "    return a-b;"
   ]
  },
  {
   "cell_type": "code",
   "execution_count": 7,
   "id": "75b74573",
   "metadata": {},
   "outputs": [
    {
     "data": {
      "text/plain": [
       "-4"
      ]
     },
     "execution_count": 7,
     "metadata": {},
     "output_type": "execute_result"
    }
   ],
   "source": [
    "sub(5,9) #normal\n",
    "sub(b=9,a=5) #keyword argument"
   ]
  },
  {
   "cell_type": "code",
   "execution_count": 10,
   "id": "d27a1b0a",
   "metadata": {},
   "outputs": [],
   "source": [
    "def sum(a=2,b=3): #Default argument\n",
    "    return a+b"
   ]
  },
  {
   "cell_type": "code",
   "execution_count": 12,
   "id": "c82680b7",
   "metadata": {},
   "outputs": [
    {
     "data": {
      "text/plain": [
       "12"
      ]
     },
     "execution_count": 12,
     "metadata": {},
     "output_type": "execute_result"
    }
   ],
   "source": [
    "sum(5,7)"
   ]
  },
  {
   "cell_type": "code",
   "execution_count": 14,
   "id": "32148ac1",
   "metadata": {},
   "outputs": [
    {
     "data": {
      "text/plain": [
       "range(0, 10)"
      ]
     },
     "execution_count": 14,
     "metadata": {},
     "output_type": "execute_result"
    }
   ],
   "source": [
    "range(10)"
   ]
  },
  {
   "cell_type": "code",
   "execution_count": 19,
   "id": "9109d03d",
   "metadata": {},
   "outputs": [],
   "source": [
    "def add1(*no): #Variable length argument\n",
    "    sum1=0\n",
    "    for i in no:\n",
    "        sum1=sum1+i\n",
    "    print(sum1)"
   ]
  },
  {
   "cell_type": "code",
   "execution_count": 21,
   "id": "061d79bd",
   "metadata": {},
   "outputs": [
    {
     "name": "stdout",
     "output_type": "stream",
     "text": [
      "1110\n"
     ]
    }
   ],
   "source": [
    "add1(777,90,243)"
   ]
  },
  {
   "cell_type": "code",
   "execution_count": 25,
   "id": "b66d24ec",
   "metadata": {},
   "outputs": [
    {
     "name": "stdout",
     "output_type": "stream",
     "text": [
      "98\n"
     ]
    }
   ],
   "source": [
    "add1(90,8)"
   ]
  },
  {
   "cell_type": "code",
   "execution_count": 27,
   "id": "4d5328ef",
   "metadata": {},
   "outputs": [
    {
     "name": "stdout",
     "output_type": "stream",
     "text": [
      "777\n"
     ]
    }
   ],
   "source": [
    "add1(777)"
   ]
  },
  {
   "cell_type": "code",
   "execution_count": 30,
   "id": "99fcf431",
   "metadata": {},
   "outputs": [],
   "source": [
    "def info(**kwargs): #IMPORTANT\n",
    "    for i,j in kwargs.items():\n",
    "        print(i,\":\",j)"
   ]
  },
  {
   "cell_type": "code",
   "execution_count": 31,
   "id": "2d6ac3c8",
   "metadata": {},
   "outputs": [
    {
     "name": "stdout",
     "output_type": "stream",
     "text": [
      "name : John\n",
      "age : 30\n",
      "City : Mumbai\n"
     ]
    }
   ],
   "source": [
    "info(name=\"John\",age=30,City=\"Mumbai\")"
   ]
  },
  {
   "cell_type": "code",
   "execution_count": 33,
   "id": "052e85a7",
   "metadata": {},
   "outputs": [
    {
     "name": "stdout",
     "output_type": "stream",
     "text": [
      "name : John\n",
      "age : 30\n",
      "City : Mumbai\n",
      "Dept : IT\n"
     ]
    }
   ],
   "source": [
    "info(name=\"John\",age=30,City=\"Mumbai\",Dept=\"IT\")"
   ]
  },
  {
   "cell_type": "code",
   "execution_count": 35,
   "id": "075bbfb7",
   "metadata": {},
   "outputs": [],
   "source": [
    "def person(name, *arg):\n",
    "    print(name)\n",
    "    print(arg)"
   ]
  },
  {
   "cell_type": "code",
   "execution_count": 37,
   "id": "29b592e0",
   "metadata": {},
   "outputs": [
    {
     "name": "stdout",
     "output_type": "stream",
     "text": [
      "Paul\n",
      "(30, 'IT', 76500, 'Bangalore')\n"
     ]
    }
   ],
   "source": [
    "person(\"Paul\",30,\"IT\",76500,\"Bangalore\")"
   ]
  },
  {
   "cell_type": "code",
   "execution_count": 39,
   "id": "a8dd0762",
   "metadata": {},
   "outputs": [],
   "source": [
    "def person(name, **arg):\n",
    "    print(name)\n",
    "    print(arg)"
   ]
  },
  {
   "cell_type": "code",
   "execution_count": 41,
   "id": "ce353210",
   "metadata": {},
   "outputs": [
    {
     "name": "stdout",
     "output_type": "stream",
     "text": [
      "John\n",
      "{'age': 30, 'City': 'Mumbai', 'Dept': 'IT'}\n"
     ]
    }
   ],
   "source": [
    "person(name=\"John\",age=30,City=\"Mumbai\",Dept=\"IT\") #works cuz of **arg"
   ]
  },
  {
   "cell_type": "markdown",
   "id": "b020ded0",
   "metadata": {},
   "source": [
    "Task: Oil and Gas Equipment and Drilling Site Management System\n",
    "\n",
    " \n",
    "\n",
    "You are tasked with developing a Python program for an oil and gas company to manage their drilling equipment and drilling sites. The program should use *args and **kwargs to provide flexibility in adding and searching for equipment and sites. Here are the tasks you need to complete:\n",
    "Create a Python script that defines empty lists for drilling equipment and drilling sites.\n",
    "\n",
    " \n",
    "\n",
    "Implement a function add_equipment that takes the following parameters:\n",
    "\n",
    " \n",
    "\n",
    "equipment_type (string): The type of equipment being added.\n",
    "*args (tuple): Additional details about the equipment (e.g., model, power, capacity).\n",
    "**kwargs (dictionary): Additional attributes of the equipment (e.g., vendor, power source).\n",
    "The function should create a dictionary representing the equipment, including its type, details (from *args), and attributes (from **kwargs). Then, it should append this dictionary to the drilling_equipment list."
   ]
  },
  {
   "cell_type": "code",
   "execution_count": 44,
   "id": "bff57b0b",
   "metadata": {},
   "outputs": [],
   "source": [
    "drillingequipment=[]\n",
    "drillingsites=[]"
   ]
  },
  {
   "cell_type": "code",
   "execution_count": 57,
   "id": "548d1937",
   "metadata": {},
   "outputs": [],
   "source": [
    "def add_equipment(equipment_type,*args,**kwargs):\n",
    "    print(equipment_type)\n",
    "    print(args)\n",
    "    print(kwargs)\n",
    "    return kwargs"
   ]
  },
  {
   "cell_type": "code",
   "execution_count": 59,
   "id": "1918c18b",
   "metadata": {},
   "outputs": [
    {
     "name": "stdout",
     "output_type": "stream",
     "text": [
      "Drilling Machine\n",
      "('AK2201', 4500, 60)\n",
      "{'vendor': 'Shell', 'power_source': 'The Hague'}\n"
     ]
    }
   ],
   "source": [
    "\n",
    "kwargs=add_equipment(\"Drilling Machine\",\"AK2201\",4500,60,vendor=\"Shell\",power_source=\"The Hague\")"
   ]
  },
  {
   "cell_type": "code",
   "execution_count": 61,
   "id": "d18ba65f",
   "metadata": {},
   "outputs": [],
   "source": [
    "drillingequipment.append(kwargs)"
   ]
  },
  {
   "cell_type": "code",
   "execution_count": 63,
   "id": "c6f2adde",
   "metadata": {},
   "outputs": [
    {
     "name": "stdout",
     "output_type": "stream",
     "text": [
      "[{'vendor': 'Shell', 'power_source': 'The Hague'}, {'vendor': 'Shell', 'power_source': 'The Hague'}]\n"
     ]
    }
   ],
   "source": [
    "print(drillingequipment)"
   ]
  },
  {
   "cell_type": "code",
   "execution_count": 69,
   "id": "07290a22",
   "metadata": {},
   "outputs": [],
   "source": [
    "drillingequipment1=[]"
   ]
  },
  {
   "cell_type": "code",
   "execution_count": 73,
   "id": "c3ceab5e",
   "metadata": {},
   "outputs": [],
   "source": [
    "def add_equipment1(equipment_type,*args,**kwargs): #alternate answer\n",
    "    dict={\"equipment\":equipment_type,\"details\":args,\"attributes\":kwargs}\n",
    "    drillingequipment1.append(dict)"
   ]
  },
  {
   "cell_type": "code",
   "execution_count": 71,
   "id": "7df6c8d6",
   "metadata": {},
   "outputs": [],
   "source": [
    "add_equipment1(\"Pump\",\"Model X\",100,10,vendor=\"D\")"
   ]
  },
  {
   "cell_type": "code",
   "execution_count": 74,
   "id": "11ec6006",
   "metadata": {},
   "outputs": [
    {
     "name": "stdout",
     "output_type": "stream",
     "text": [
      "[{'equipment': 'Pump', 'details': ('Model X', 100, 10), 'attributes': {'vendor': 'D'}}]\n"
     ]
    }
   ],
   "source": [
    "print(drillingequipment1)"
   ]
  },
  {
   "cell_type": "markdown",
   "id": "a4f699f3",
   "metadata": {},
   "source": [
    "Implement a function add_drilling_site with similar parameters:\n",
    "\n",
    " \n",
    "\n",
    "site_name (string): The name of the drilling site being added.\n",
    "*args (tuple): Additional details about the site (e.g., location, depth, terrain).\n",
    "**kwargs (dictionary): Additional attributes of the site (e.g., status, operator).\n",
    "The function should create a dictionary representing the site, including its name, details (from *args), and attributes (from **kwargs). Then, it should append this dictionary to the drilling_sites list."
   ]
  },
  {
   "cell_type": "code",
   "execution_count": 76,
   "id": "89769e5e",
   "metadata": {},
   "outputs": [],
   "source": [
    "def add_drilling_site(site_name,*args,**kwargs): \n",
    "    dict={\"site_name\":site_name,\"details\":args,\"attributes\":kwargs}\n",
    "    drillingsites.append(dict)"
   ]
  },
  {
   "cell_type": "code",
   "execution_count": 78,
   "id": "a2a093c4",
   "metadata": {},
   "outputs": [],
   "source": [
    "add_drilling_site(\"Trombay\",location=\"Mumbai\",terrain=\"Water\",operator=\"Saakshi\")"
   ]
  },
  {
   "cell_type": "code",
   "execution_count": 80,
   "id": "c334ec08",
   "metadata": {},
   "outputs": [
    {
     "name": "stdout",
     "output_type": "stream",
     "text": [
      "[{'site_name': 'Trombay', 'details': (), 'attributes': {'location': 'Mumbai', 'terrain': 'Water', 'operator': 'Saakshi'}}, {'site_name': 'Trombay', 'details': (), 'attributes': {'location': 'Mumbai', 'terrain': 'Water', 'operator': 'Saakshi'}}]\n"
     ]
    }
   ],
   "source": [
    "print(drillingsites)"
   ]
  }
 ],
 "metadata": {
  "kernelspec": {
   "display_name": "Python 3 (ipykernel)",
   "language": "python",
   "name": "python3"
  },
  "language_info": {
   "codemirror_mode": {
    "name": "ipython",
    "version": 3
   },
   "file_extension": ".py",
   "mimetype": "text/x-python",
   "name": "python",
   "nbconvert_exporter": "python",
   "pygments_lexer": "ipython3",
   "version": "3.11.4"
  }
 },
 "nbformat": 4,
 "nbformat_minor": 5
}
