{
 "cells": [
  {
   "cell_type": "code",
   "execution_count": 2,
   "id": "b3c1b8b3",
   "metadata": {},
   "outputs": [],
   "source": [
    "import findspark\n",
    "findspark.init()\n",
    "from pyspark.sql import SparkSession\n",
    "spark=SparkSession.builder.appName(\"RDDExample\").getOrCreate()"
   ]
  },
  {
   "cell_type": "code",
   "execution_count": 4,
   "id": "e447d3ec",
   "metadata": {},
   "outputs": [],
   "source": [
    "from pyspark.sql.functions import *\n",
    "from pyspark.sql.types import *"
   ]
  },
  {
   "cell_type": "code",
   "execution_count": 10,
   "id": "314f7cfd",
   "metadata": {},
   "outputs": [],
   "source": [
    "df=spark.read.option(\"multiline\",True).json(\"pitstop.json\")"
   ]
  },
  {
   "cell_type": "code",
   "execution_count": 12,
   "id": "2b96e80d",
   "metadata": {},
   "outputs": [
    {
     "name": "stdout",
     "output_type": "stream",
     "text": [
      "+--------+--------+---+------------+------+----+--------+\n",
      "|driverId|duration|lap|milliseconds|raceId|stop|    time|\n",
      "+--------+--------+---+------------+------+----+--------+\n",
      "|     153|  26.898|  1|       26898|   841|   1|17:05:23|\n",
      "|      30|  25.021|  1|       25021|   841|   1|17:05:52|\n",
      "|      17|  23.426| 11|       23426|   841|   1|17:20:48|\n",
      "|       4|  23.251| 12|       23251|   841|   1|17:22:34|\n",
      "|      13|  23.842| 13|       23842|   841|   1|17:24:10|\n",
      "|      22|  23.643| 13|       23643|   841|   1|17:24:29|\n",
      "|      20|  22.603| 14|       22603|   841|   1|17:25:17|\n",
      "|     814|  24.863| 14|       24863|   841|   1|17:26:03|\n",
      "|     816|  25.259| 14|       25259|   841|   1|17:26:50|\n",
      "|      67|  25.342| 15|       25342|   841|   1|17:27:34|\n",
      "|       2|  22.994| 15|       22994|   841|   1|17:27:41|\n",
      "|       1|  23.227| 16|       23227|   841|   1|17:28:24|\n",
      "|     808|  24.535| 16|       24535|   841|   1|17:28:39|\n",
      "|       3|  23.716| 16|       23716|   841|   1|17:29:00|\n",
      "|     155|  24.064| 16|       24064|   841|   1|17:29:06|\n",
      "|      16|  25.978| 16|       25978|   841|   1|17:29:08|\n",
      "|      15|  24.899| 16|       24899|   841|   1|17:29:49|\n",
      "|      18|  16.867| 17|       16867|   841|   1|17:30:24|\n",
      "|     153|  24.463| 17|       24463|   841|   2|17:31:06|\n",
      "|       5|  24.865| 17|       24865|   841|   1|17:31:11|\n",
      "+--------+--------+---+------------+------+----+--------+\n",
      "only showing top 20 rows\n",
      "\n"
     ]
    }
   ],
   "source": [
    "df.show()"
   ]
  },
  {
   "cell_type": "code",
   "execution_count": 30,
   "id": "dcb31c30",
   "metadata": {},
   "outputs": [],
   "source": [
    "df_final=df.sort(df.driverId)"
   ]
  },
  {
   "cell_type": "code",
   "execution_count": 16,
   "id": "8f9400fc",
   "metadata": {},
   "outputs": [
    {
     "data": {
      "text/plain": [
       "40"
      ]
     },
     "execution_count": 16,
     "metadata": {},
     "output_type": "execute_result"
    }
   ],
   "source": [
    "df.count()"
   ]
  },
  {
   "cell_type": "code",
   "execution_count": 25,
   "id": "6281d332",
   "metadata": {},
   "outputs": [
    {
     "name": "stdout",
     "output_type": "stream",
     "text": [
      "+----+-----+\n",
      "|stop|count|\n",
      "+----+-----+\n",
      "|   1|   21|\n",
      "|   2|   16|\n",
      "|   3|    3|\n",
      "+----+-----+\n",
      "\n"
     ]
    }
   ],
   "source": [
    "df_stops=df.groupBy(df.stop).count().sort(df.stop).show()"
   ]
  },
  {
   "cell_type": "code",
   "execution_count": 31,
   "id": "29db86ad",
   "metadata": {},
   "outputs": [
    {
     "name": "stderr",
     "output_type": "stream",
     "text": [
      "                                                                                \r"
     ]
    }
   ],
   "source": [
    "df_final.write.mode(\"overwrite\").option(\"path\",\"/home/labuser/Desktop/Saakshi PySpark/Untitled Folder/processed_data/pitstops\").saveAsTable(\"pitstop\")"
   ]
  }
 ],
 "metadata": {
  "kernelspec": {
   "display_name": "Python 3 (ipykernel)",
   "language": "python",
   "name": "python3"
  },
  "language_info": {
   "codemirror_mode": {
    "name": "ipython",
    "version": 3
   },
   "file_extension": ".py",
   "mimetype": "text/x-python",
   "name": "python",
   "nbconvert_exporter": "python",
   "pygments_lexer": "ipython3",
   "version": "3.11.4"
  }
 },
 "nbformat": 4,
 "nbformat_minor": 5
}
