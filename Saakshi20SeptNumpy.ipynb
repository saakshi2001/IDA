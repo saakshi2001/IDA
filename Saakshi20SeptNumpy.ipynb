{
 "cells": [
  {
   "cell_type": "code",
   "execution_count": 3,
   "id": "218558ec",
   "metadata": {},
   "outputs": [],
   "source": [
    "import numpy as np"
   ]
  },
  {
   "cell_type": "code",
   "execution_count": 4,
   "id": "0323ef68",
   "metadata": {},
   "outputs": [],
   "source": [
    "arr=np.array([1,23,33])"
   ]
  },
  {
   "cell_type": "code",
   "execution_count": 6,
   "id": "757719a4",
   "metadata": {},
   "outputs": [
    {
     "data": {
      "text/plain": [
       "array([ 1, 23, 33])"
      ]
     },
     "execution_count": 6,
     "metadata": {},
     "output_type": "execute_result"
    }
   ],
   "source": [
    "arr"
   ]
  },
  {
   "cell_type": "code",
   "execution_count": 11,
   "id": "25ffc846",
   "metadata": {},
   "outputs": [
    {
     "data": {
      "text/plain": [
       "array([[ 1, 23, 33],\n",
       "       [ 2, 22, 54]])"
      ]
     },
     "execution_count": 11,
     "metadata": {},
     "output_type": "execute_result"
    }
   ],
   "source": [
    "arr2=np.array([[1,23,33],[2,22,54]])\n",
    "arr2"
   ]
  },
  {
   "cell_type": "code",
   "execution_count": 13,
   "id": "c5df4918",
   "metadata": {},
   "outputs": [
    {
     "data": {
      "text/plain": [
       "1"
      ]
     },
     "execution_count": 13,
     "metadata": {},
     "output_type": "execute_result"
    }
   ],
   "source": [
    "arr.ndim"
   ]
  },
  {
   "cell_type": "code",
   "execution_count": 15,
   "id": "5ec9e3d3",
   "metadata": {},
   "outputs": [
    {
     "data": {
      "text/plain": [
       "2"
      ]
     },
     "execution_count": 15,
     "metadata": {},
     "output_type": "execute_result"
    }
   ],
   "source": [
    "arr2.ndim"
   ]
  },
  {
   "cell_type": "code",
   "execution_count": 22,
   "id": "9a94e05e",
   "metadata": {},
   "outputs": [
    {
     "data": {
      "text/plain": [
       "array([[[ 1, 23, 33],\n",
       "        [ 2, 22, 54],\n",
       "        [ 5,  6,  8]],\n",
       "\n",
       "       [[10, 20, 30],\n",
       "        [25, 22, 55],\n",
       "        [50, 60, 80]]])"
      ]
     },
     "execution_count": 22,
     "metadata": {},
     "output_type": "execute_result"
    }
   ],
   "source": [
    "arr3=np.array([[[1,23,33],[2,22,54],[5,6,8]],[[10,20,30],[25,22,55],[50,60,80]]])\n",
    "arr3"
   ]
  },
  {
   "cell_type": "code",
   "execution_count": 24,
   "id": "9540f243",
   "metadata": {},
   "outputs": [
    {
     "data": {
      "text/plain": [
       "3"
      ]
     },
     "execution_count": 24,
     "metadata": {},
     "output_type": "execute_result"
    }
   ],
   "source": [
    "arr3.ndim"
   ]
  },
  {
   "cell_type": "code",
   "execution_count": 27,
   "id": "5a1255b8",
   "metadata": {},
   "outputs": [
    {
     "data": {
      "text/plain": [
       "array([ 1, 23])"
      ]
     },
     "execution_count": 27,
     "metadata": {},
     "output_type": "execute_result"
    }
   ],
   "source": [
    "arr[0:2]"
   ]
  },
  {
   "cell_type": "code",
   "execution_count": 29,
   "id": "3f3dde5b",
   "metadata": {},
   "outputs": [
    {
     "data": {
      "text/plain": [
       "33"
      ]
     },
     "execution_count": 29,
     "metadata": {},
     "output_type": "execute_result"
    }
   ],
   "source": [
    "arr2[0,2]#to pick 33"
   ]
  },
  {
   "cell_type": "code",
   "execution_count": 31,
   "id": "02c5e95c",
   "metadata": {},
   "outputs": [
    {
     "data": {
      "text/plain": [
       "array([ 2, 22])"
      ]
     },
     "execution_count": 31,
     "metadata": {},
     "output_type": "execute_result"
    }
   ],
   "source": [
    "arr2[1,0:2]"
   ]
  },
  {
   "cell_type": "code",
   "execution_count": 33,
   "id": "ee661006",
   "metadata": {},
   "outputs": [
    {
     "data": {
      "text/plain": [
       "54"
      ]
     },
     "execution_count": 33,
     "metadata": {},
     "output_type": "execute_result"
    }
   ],
   "source": [
    "arr3[0,1,2]"
   ]
  },
  {
   "cell_type": "code",
   "execution_count": 1,
   "id": "04258a22",
   "metadata": {},
   "outputs": [
    {
     "ename": "NameError",
     "evalue": "name 'arr3' is not defined",
     "output_type": "error",
     "traceback": [
      "\u001b[0;31m---------------------------------------------------------------------------\u001b[0m",
      "\u001b[0;31mNameError\u001b[0m                                 Traceback (most recent call last)",
      "Cell \u001b[0;32mIn[1], line 1\u001b[0m\n\u001b[0;32m----> 1\u001b[0m arr3[\u001b[38;5;241m1\u001b[39m,\u001b[38;5;241m1\u001b[39m,\u001b[38;5;241m1\u001b[39m:]\n",
      "\u001b[0;31mNameError\u001b[0m: name 'arr3' is not defined"
     ]
    }
   ],
   "source": [
    "arr3[1,1,1:]"
   ]
  },
  {
   "cell_type": "code",
   "execution_count": 4,
   "id": "bbced29e",
   "metadata": {},
   "outputs": [
    {
     "data": {
      "text/plain": [
       "array([[10, 20],\n",
       "       [30, 44],\n",
       "       [11, 22],\n",
       "       [33, 55]])"
      ]
     },
     "execution_count": 4,
     "metadata": {},
     "output_type": "execute_result"
    }
   ],
   "source": [
    "ar1=np.array([[10,20],[30,44]])\n",
    "ar2=np.array([[11,22],[33,55]])\n",
    "ar=np.concatenate((ar1,ar2))\n",
    "ar"
   ]
  },
  {
   "cell_type": "code",
   "execution_count": 6,
   "id": "4a800e63",
   "metadata": {},
   "outputs": [
    {
     "data": {
      "text/plain": [
       "2"
      ]
     },
     "execution_count": 6,
     "metadata": {},
     "output_type": "execute_result"
    }
   ],
   "source": [
    "ar.ndim"
   ]
  },
  {
   "cell_type": "code",
   "execution_count": 8,
   "id": "3df56d14",
   "metadata": {},
   "outputs": [
    {
     "data": {
      "text/plain": [
       "(4, 2)"
      ]
     },
     "execution_count": 8,
     "metadata": {},
     "output_type": "execute_result"
    }
   ],
   "source": [
    "ar.shape"
   ]
  },
  {
   "cell_type": "code",
   "execution_count": 10,
   "id": "edee4768",
   "metadata": {},
   "outputs": [],
   "source": [
    "#Create Numpy arrays\n",
    "temperature_data = np.array([25.3, 26.1, 24.8, 23.5, 27.2])\n",
    "pressure_data = np.array([101.2, 100.8, 101.5, 100.2, 101.0])\n",
    "humidity_data = np.array([55.2, 54.8, 56.5, 53.7, 55.9])"
   ]
  },
  {
   "cell_type": "code",
   "execution_count": 13,
   "id": "474cf7d9",
   "metadata": {},
   "outputs": [
    {
     "name": "stdout",
     "output_type": "stream",
     "text": [
      "25.380000000000003 100.94 55.21999999999999\n"
     ]
    }
   ],
   "source": [
    "#Calculate the mean (average) for each quantity\n",
    "avgtemp=np.mean(temperature_data)# both mean and average functions can be used\n",
    "avgpres=np.average(pressure_data)\n",
    "avghumid=np.average(humidity_data)\n",
    "print(avgtemp,avgpres,avghumid)"
   ]
  },
  {
   "cell_type": "code",
   "execution_count": 15,
   "id": "5a6ab9b0",
   "metadata": {},
   "outputs": [
    {
     "name": "stdout",
     "output_type": "stream",
     "text": [
      "1.2416118556135003 0.43634848458542813 0.9579144011862429\n"
     ]
    }
   ],
   "source": [
    "#Calculate standard deviation\n",
    "temp_std= np.std(temperature_data)\n",
    "pressure_std= np.std(pressure_data)\n",
    "humidity_std= np.std(humidity_data)\n",
    "print(temp_std,pressure_std,humidity_std)"
   ]
  },
  {
   "cell_type": "code",
   "execution_count": 19,
   "id": "3daf63ee",
   "metadata": {},
   "outputs": [
    {
     "name": "stdout",
     "output_type": "stream",
     "text": [
      "27.2 101.5 56.5 23.5 100.2 53.7\n"
     ]
    }
   ],
   "source": [
    "#Calculate the max and min values\n",
    "tempmax=np.max(temperature_data)\n",
    "presmax=np.max(pressure_data)\n",
    "humidmax=np.max(humidity_data)\n",
    "\n",
    "tempmin=np.min(temperature_data)\n",
    "presmin=np.min(pressure_data)\n",
    "humidmin=np.min(humidity_data)\n",
    "print(tempmax,presmax,humidmax,tempmin,presmin,humidmin)"
   ]
  }
 ],
 "metadata": {
  "kernelspec": {
   "display_name": "Python 3 (ipykernel)",
   "language": "python",
   "name": "python3"
  },
  "language_info": {
   "codemirror_mode": {
    "name": "ipython",
    "version": 3
   },
   "file_extension": ".py",
   "mimetype": "text/x-python",
   "name": "python",
   "nbconvert_exporter": "python",
   "pygments_lexer": "ipython3",
   "version": "3.11.4"
  }
 },
 "nbformat": 4,
 "nbformat_minor": 5
}
