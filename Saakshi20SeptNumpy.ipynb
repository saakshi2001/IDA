{
 "cells": [
  {
   "cell_type": "code",
   "execution_count": 0,
   "metadata": {
    "application/vnd.databricks.v1+cell": {
     "cellMetadata": {},
     "inputWidgets": {},
     "nuid": "f1323244-8e1d-41db-a650-3756e603f339",
     "showTitle": false,
     "title": ""
    }
   },
   "outputs": [],
   "source": [
    "import numpy as np"
   ]
  },
  {
   "cell_type": "code",
   "execution_count": 0,
   "metadata": {
    "application/vnd.databricks.v1+cell": {
     "cellMetadata": {},
     "inputWidgets": {},
     "nuid": "d0af7bc1-b951-4fe4-b135-f8ac206e1d26",
     "showTitle": false,
     "title": ""
    }
   },
   "outputs": [],
   "source": [
    "arr=np.array([1,23,33])"
   ]
  },
  {
   "cell_type": "code",
   "execution_count": 0,
   "metadata": {
    "application/vnd.databricks.v1+cell": {
     "cellMetadata": {},
     "inputWidgets": {},
     "nuid": "4dfe3650-92fe-478e-9278-1e34e8939e46",
     "showTitle": false,
     "title": ""
    }
   },
   "outputs": [],
   "source": [
    "arr"
   ]
  },
  {
   "cell_type": "code",
   "execution_count": 0,
   "metadata": {
    "application/vnd.databricks.v1+cell": {
     "cellMetadata": {},
     "inputWidgets": {},
     "nuid": "0c7a60b3-4536-44bb-b561-6d7e029db205",
     "showTitle": false,
     "title": ""
    }
   },
   "outputs": [],
   "source": [
    "arr2=np.array([[1,23,33],[2,22,54]])\n",
    "arr2"
   ]
  },
  {
   "cell_type": "code",
   "execution_count": 0,
   "metadata": {
    "application/vnd.databricks.v1+cell": {
     "cellMetadata": {},
     "inputWidgets": {},
     "nuid": "c4b39041-c8d7-4fc7-a6c7-04b7ee49a7d9",
     "showTitle": false,
     "title": ""
    }
   },
   "outputs": [],
   "source": [
    "arr.ndim"
   ]
  },
  {
   "cell_type": "code",
   "execution_count": 0,
   "metadata": {
    "application/vnd.databricks.v1+cell": {
     "cellMetadata": {},
     "inputWidgets": {},
     "nuid": "2a933a56-ca10-4e4e-b2fa-898ac2388026",
     "showTitle": false,
     "title": ""
    }
   },
   "outputs": [],
   "source": [
    "arr2.ndim"
   ]
  },
  {
   "cell_type": "code",
   "execution_count": 0,
   "metadata": {
    "application/vnd.databricks.v1+cell": {
     "cellMetadata": {},
     "inputWidgets": {},
     "nuid": "9f300123-54c6-4517-ad30-2fda289d9c3d",
     "showTitle": false,
     "title": ""
    }
   },
   "outputs": [],
   "source": [
    "arr3=np.array([[[1,23,33],[2,22,54],[5,6,8]],[[10,20,30],[25,22,55],[50,60,80]]])\n",
    "arr3"
   ]
  },
  {
   "cell_type": "code",
   "execution_count": 0,
   "metadata": {
    "application/vnd.databricks.v1+cell": {
     "cellMetadata": {},
     "inputWidgets": {},
     "nuid": "8df72693-28be-4ea8-ab74-737f7df3f3bb",
     "showTitle": false,
     "title": ""
    }
   },
   "outputs": [],
   "source": [
    "arr3.ndim"
   ]
  },
  {
   "cell_type": "code",
   "execution_count": 0,
   "metadata": {
    "application/vnd.databricks.v1+cell": {
     "cellMetadata": {},
     "inputWidgets": {},
     "nuid": "4c6ed226-2080-4c23-9262-4047b12934b7",
     "showTitle": false,
     "title": ""
    }
   },
   "outputs": [],
   "source": [
    "arr[0:2]"
   ]
  },
  {
   "cell_type": "code",
   "execution_count": 0,
   "metadata": {
    "application/vnd.databricks.v1+cell": {
     "cellMetadata": {},
     "inputWidgets": {},
     "nuid": "eae2e0e6-4694-4e2e-8e6b-fe12d0f126f0",
     "showTitle": false,
     "title": ""
    }
   },
   "outputs": [],
   "source": [
    "arr2[0,2]#to pick 33"
   ]
  },
  {
   "cell_type": "code",
   "execution_count": 0,
   "metadata": {
    "application/vnd.databricks.v1+cell": {
     "cellMetadata": {},
     "inputWidgets": {},
     "nuid": "4f4062e0-73f2-4cde-ae26-6300870763f1",
     "showTitle": false,
     "title": ""
    }
   },
   "outputs": [],
   "source": [
    "arr2[1,0:2]"
   ]
  },
  {
   "cell_type": "code",
   "execution_count": 0,
   "metadata": {
    "application/vnd.databricks.v1+cell": {
     "cellMetadata": {},
     "inputWidgets": {},
     "nuid": "87540033-d3a6-4695-9234-145f64b1e129",
     "showTitle": false,
     "title": ""
    }
   },
   "outputs": [],
   "source": [
    "arr3[0,1,2]"
   ]
  },
  {
   "cell_type": "code",
   "execution_count": 0,
   "metadata": {
    "application/vnd.databricks.v1+cell": {
     "cellMetadata": {},
     "inputWidgets": {},
     "nuid": "08fffce6-b038-4790-a591-df47ca8f5f5c",
     "showTitle": false,
     "title": ""
    }
   },
   "outputs": [],
   "source": [
    "arr3[1,1,1:]"
   ]
  },
  {
   "cell_type": "code",
   "execution_count": 0,
   "metadata": {
    "application/vnd.databricks.v1+cell": {
     "cellMetadata": {},
     "inputWidgets": {},
     "nuid": "95966cfb-9689-4927-92d5-212640d77476",
     "showTitle": false,
     "title": ""
    }
   },
   "outputs": [],
   "source": [
    "ar1=np.array([[10,20],[30,44]])\n",
    "ar2=np.array([[11,22],[33,55]])\n",
    "ar=np.concatenate((ar1,ar2))\n",
    "ar"
   ]
  },
  {
   "cell_type": "code",
   "execution_count": 0,
   "metadata": {
    "application/vnd.databricks.v1+cell": {
     "cellMetadata": {},
     "inputWidgets": {},
     "nuid": "5a21aeb2-b0f1-4d79-81bb-553d73447cf4",
     "showTitle": false,
     "title": ""
    }
   },
   "outputs": [],
   "source": [
    "ar.ndim"
   ]
  },
  {
   "cell_type": "code",
   "execution_count": 0,
   "metadata": {
    "application/vnd.databricks.v1+cell": {
     "cellMetadata": {},
     "inputWidgets": {},
     "nuid": "327b1978-c92e-4dac-b876-f75d14fa6e54",
     "showTitle": false,
     "title": ""
    }
   },
   "outputs": [],
   "source": [
    "ar.shape"
   ]
  },
  {
   "cell_type": "code",
   "execution_count": 0,
   "metadata": {
    "application/vnd.databricks.v1+cell": {
     "cellMetadata": {},
     "inputWidgets": {},
     "nuid": "14631d5a-6de8-40eb-bfaa-d6585b418da5",
     "showTitle": false,
     "title": ""
    }
   },
   "outputs": [],
   "source": [
    "#Create Numpy arrays\n",
    "temperature_data = np.array([25.3, 26.1, 24.8, 23.5, 27.2])\n",
    "pressure_data = np.array([101.2, 100.8, 101.5, 100.2, 101.0])\n",
    "humidity_data = np.array([55.2, 54.8, 56.5, 53.7, 55.9])"
   ]
  },
  {
   "cell_type": "code",
   "execution_count": 0,
   "metadata": {
    "application/vnd.databricks.v1+cell": {
     "cellMetadata": {},
     "inputWidgets": {},
     "nuid": "5f14f457-0ec1-422e-bf34-7d84e27deff5",
     "showTitle": false,
     "title": ""
    }
   },
   "outputs": [],
   "source": [
    "#Calculate the mean (average) for each quantity\n",
    "avgtemp=np.mean(temperature_data)# both mean and average functions can be used\n",
    "avgpres=np.average(pressure_data)\n",
    "avghumid=np.average(humidity_data)\n",
    "print(avgtemp,avgpres,avghumid)"
   ]
  },
  {
   "cell_type": "code",
   "execution_count": 0,
   "metadata": {
    "application/vnd.databricks.v1+cell": {
     "cellMetadata": {},
     "inputWidgets": {},
     "nuid": "44b96ec4-dd84-4b90-9fe0-5f64d9d7a21f",
     "showTitle": false,
     "title": ""
    }
   },
   "outputs": [],
   "source": [
    "#Calculate standard deviation\n",
    "temp_std= np.std(temperature_data)\n",
    "pressure_std= np.std(pressure_data)\n",
    "humidity_std= np.std(humidity_data)\n",
    "print(temp_std,pressure_std,humidity_std)"
   ]
  },
  {
   "cell_type": "code",
   "execution_count": 0,
   "metadata": {
    "application/vnd.databricks.v1+cell": {
     "cellMetadata": {},
     "inputWidgets": {},
     "nuid": "ed81a101-dcb1-410b-a58d-1024a8beb806",
     "showTitle": false,
     "title": ""
    }
   },
   "outputs": [],
   "source": [
    "#Calculate the max and min values\n",
    "tempmax=np.max(temperature_data)\n",
    "presmax=np.max(pressure_data)\n",
    "humidmax=np.max(humidity_data)\n",
    "\n",
    "tempmin=np.min(temperature_data)\n",
    "presmin=np.min(pressure_data)\n",
    "humidmin=np.min(humidity_data)\n",
    "print(tempmax,presmax,humidmax,tempmin,presmin,humidmin)"
   ]
  }
 ],
 "metadata": {
  "application/vnd.databricks.v1+notebook": {
   "dashboards": [],
   "language": "python",
   "notebookMetadata": {},
   "notebookName": "Saakshi20SeptNumpy",
   "widgets": {}
  },
  "kernelspec": {
   "display_name": "Python 3 (ipykernel)",
   "language": "python",
   "name": "python3"
  },
  "language_info": {
   "codemirror_mode": {
    "name": "ipython",
    "version": 3
   },
   "file_extension": ".py",
   "mimetype": "text/x-python",
   "name": "python",
   "nbconvert_exporter": "python",
   "pygments_lexer": "ipython3",
   "version": "3.11.4"
  }
 },
 "nbformat": 4,
 "nbformat_minor": 0
}
