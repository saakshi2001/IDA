{
 "cells": [
  {
   "cell_type": "code",
   "execution_count": 2,
   "id": "77ae1b70",
   "metadata": {},
   "outputs": [],
   "source": [
    "import findspark\n",
    "findspark.init()\n",
    "from pyspark.sql import SparkSession\n",
    "spark=SparkSession.builder.appName(\"RDDExample\").getOrCreate()"
   ]
  },
  {
   "cell_type": "code",
   "execution_count": 4,
   "id": "7de1c81c",
   "metadata": {},
   "outputs": [],
   "source": [
    "df_sales=spark.read.option(\"header\",True).option(\"inferschema\",True).csv(\"sales_info.csv\")\n",
    "df_product=spark.read.option(\"header\",True).option(\"inferschema\",True).csv(\"product_info.csv\")"
   ]
  },
  {
   "cell_type": "code",
   "execution_count": 6,
   "id": "985f1a3c",
   "metadata": {},
   "outputs": [
    {
     "name": "stdout",
     "output_type": "stream",
     "text": [
      "+--------------+----------+-----------+-------------+-------------------+\n",
      "|transaction_id|product_id|customer_id|quantity_sold|          timestamp|\n",
      "+--------------+----------+-----------+-------------+-------------------+\n",
      "|             1|       101|        201|            5|2023-09-22 10:15:00|\n",
      "|             2|       102|        202|            3|2023-09-22 11:30:00|\n",
      "|             3|       101|        203|            2|2023-09-22 12:45:00|\n",
      "|             4|       103|        204|            1|2023-09-22 14:00:00|\n",
      "|             5|       102|        205|            4|2023-09-22 15:15:00|\n",
      "+--------------+----------+-----------+-------------+-------------------+\n",
      "\n"
     ]
    }
   ],
   "source": [
    "df_sales.show()"
   ]
  },
  {
   "cell_type": "code",
   "execution_count": 8,
   "id": "5535e1d2",
   "metadata": {},
   "outputs": [
    {
     "name": "stdout",
     "output_type": "stream",
     "text": [
      "+----------+------------+-----------+-----+\n",
      "|product_id|product_name|   category|price|\n",
      "+----------+------------+-----------+-----+\n",
      "|       101|      Laptop|Electronics|  800|\n",
      "|       102|  Smartphone|Electronics|  600|\n",
      "|       103|        Desk|  Furniture|  250|\n",
      "|       104|  Headphones|Electronics|  100|\n",
      "|       105|       Chair|  Furniture|  150|\n",
      "+----------+------------+-----------+-----+\n",
      "\n"
     ]
    }
   ],
   "source": [
    "df_product.show()"
   ]
  },
  {
   "cell_type": "code",
   "execution_count": 10,
   "id": "e605407d",
   "metadata": {},
   "outputs": [
    {
     "name": "stdout",
     "output_type": "stream",
     "text": [
      "+----------+--------------+-----------+-------------+-------------------+------------+-----------+-----+\n",
      "|product_id|transaction_id|customer_id|quantity_sold|          timestamp|product_name|   category|price|\n",
      "+----------+--------------+-----------+-------------+-------------------+------------+-----------+-----+\n",
      "|       101|             1|        201|            5|2023-09-22 10:15:00|      Laptop|Electronics|  800|\n",
      "|       102|             2|        202|            3|2023-09-22 11:30:00|  Smartphone|Electronics|  600|\n",
      "|       101|             3|        203|            2|2023-09-22 12:45:00|      Laptop|Electronics|  800|\n",
      "|       103|             4|        204|            1|2023-09-22 14:00:00|        Desk|  Furniture|  250|\n",
      "|       102|             5|        205|            4|2023-09-22 15:15:00|  Smartphone|Electronics|  600|\n",
      "+----------+--------------+-----------+-------------+-------------------+------------+-----------+-----+\n",
      "\n"
     ]
    }
   ],
   "source": [
    "df_sales.join(df_product, on='product_id').show() #mentioning product_id is not necessary as PySpark is smart enough to identify on its own"
   ]
  },
  {
   "cell_type": "code",
   "execution_count": 12,
   "id": "277f6d61",
   "metadata": {},
   "outputs": [
    {
     "name": "stdout",
     "output_type": "stream",
     "text": [
      "+--------------+----------+-----------+-------------+-------------------+----------+------------+-----------+-----+\n",
      "|transaction_id|product_id|customer_id|quantity_sold|          timestamp|product_id|product_name|   category|price|\n",
      "+--------------+----------+-----------+-------------+-------------------+----------+------------+-----------+-----+\n",
      "|             1|       101|        201|            5|2023-09-22 10:15:00|       101|      Laptop|Electronics|  800|\n",
      "|             2|       102|        202|            3|2023-09-22 11:30:00|       102|  Smartphone|Electronics|  600|\n",
      "|             3|       101|        203|            2|2023-09-22 12:45:00|       101|      Laptop|Electronics|  800|\n",
      "|             4|       103|        204|            1|2023-09-22 14:00:00|       103|        Desk|  Furniture|  250|\n",
      "|             5|       102|        205|            4|2023-09-22 15:15:00|       102|  Smartphone|Electronics|  600|\n",
      "+--------------+----------+-----------+-------------+-------------------+----------+------------+-----------+-----+\n",
      "\n"
     ]
    }
   ],
   "source": [
    "df_sales.join(df_product, on=df_sales['product_id']==df_product['product_id']).show()"
   ]
  },
  {
   "cell_type": "code",
   "execution_count": 18,
   "id": "27f05f86",
   "metadata": {},
   "outputs": [],
   "source": [
    "df_sales_product=df_sales.join(df_product, on=df_sales['product_id']==df_product['product_id'],how=\"left\")"
   ]
  },
  {
   "cell_type": "code",
   "execution_count": 17,
   "id": "992c1bfe",
   "metadata": {},
   "outputs": [
    {
     "name": "stdout",
     "output_type": "stream",
     "text": [
      "+--------------+-------------+------------+-----+\n",
      "|transaction_id|quantity_sold|product_name|price|\n",
      "+--------------+-------------+------------+-----+\n",
      "|             1|            5|      Laptop|  800|\n",
      "|             1|            5|  Smartphone|  600|\n",
      "|             1|            5|        Desk|  250|\n",
      "|             1|            5|  Headphones|  100|\n",
      "|             1|            5|       Chair|  150|\n",
      "|             2|            3|      Laptop|  800|\n",
      "|             2|            3|  Smartphone|  600|\n",
      "|             2|            3|        Desk|  250|\n",
      "|             2|            3|  Headphones|  100|\n",
      "|             2|            3|       Chair|  150|\n",
      "|             3|            2|      Laptop|  800|\n",
      "|             3|            2|  Smartphone|  600|\n",
      "|             3|            2|        Desk|  250|\n",
      "|             3|            2|  Headphones|  100|\n",
      "|             3|            2|       Chair|  150|\n",
      "|             4|            1|      Laptop|  800|\n",
      "|             4|            1|  Smartphone|  600|\n",
      "|             4|            1|        Desk|  250|\n",
      "|             4|            1|  Headphones|  100|\n",
      "|             4|            1|       Chair|  150|\n",
      "+--------------+-------------+------------+-----+\n",
      "only showing top 20 rows\n",
      "\n"
     ]
    }
   ],
   "source": [
    "df_sales.join(df_product).select(\"transaction_id\",\"quantity_sold\",\"product_name\",\"price\").show()"
   ]
  },
  {
   "cell_type": "code",
   "execution_count": 21,
   "id": "887636b7",
   "metadata": {},
   "outputs": [
    {
     "name": "stdout",
     "output_type": "stream",
     "text": [
      "+--------------+----------+-----------+-------------+-------------------+----------+------------+-----------+-----+\n",
      "|transaction_id|product_id|customer_id|quantity_sold|          timestamp|product_id|product_name|   category|price|\n",
      "+--------------+----------+-----------+-------------+-------------------+----------+------------+-----------+-----+\n",
      "|             1|       101|        201|            5|2023-09-22 10:15:00|       101|      Laptop|Electronics|  800|\n",
      "+--------------+----------+-----------+-------------+-------------------+----------+------------+-----------+-----+\n",
      "\n"
     ]
    }
   ],
   "source": [
    "df_sales_product.filter(\"transaction_id=1\").show() #can use where insteadof filter, same result \n",
    "#df_sales_product.where(\"transaction_id=1\").show()\n",
    "#df_sales_product.where(col(\"transaction_id\")==1).show()"
   ]
  },
  {
   "cell_type": "code",
   "execution_count": 23,
   "id": "e3047828",
   "metadata": {},
   "outputs": [],
   "source": [
    "employees = [(1, \"Scott\", \"Tiger\", 1000.0, \n",
    "                      \"united states\", \"+1 123 456 7890\", \"123 45 6789\"\n",
    "                     ),\n",
    "                     (2, \"Henry\", \"Ford\", 1250.0, \n",
    "                      \"India\", \"+91 234 567 8901\", \"456 78 9123\"\n",
    "                     ),\n",
    "                     (3, \"Nick\", \"Junior\", 750.0, \n",
    "                      \"united KINGDOM\", \"+44 111 111 1111\", \"222 33 4444\"\n",
    "                     ),\n",
    "                     (4, \"Bill\", \"Gomes\", 1500.0, \n",
    "                      \"AUSTRALIA\", \"+61 987 654 3210\", \"789 12 6118\"\n",
    "                     )\n",
    "                ]"
   ]
  },
  {
   "cell_type": "code",
   "execution_count": 45,
   "id": "870afd18",
   "metadata": {},
   "outputs": [],
   "source": [
    "employeesDF = spark. \\\n",
    "    createDataFrame(employees,\n",
    "                    schema=\"\"\"employee_id INT, first_name STRING, \n",
    "                    last_name STRING, salary FLOAT, nationality STRING,\n",
    "                    phone_number STRING, ssn STRING\"\"\"\n",
    "                   )"
   ]
  },
  {
   "cell_type": "code",
   "execution_count": 46,
   "id": "6ff5488b",
   "metadata": {},
   "outputs": [
    {
     "name": "stdout",
     "output_type": "stream",
     "text": [
      "+-----------+----------+---------+------+--------------+----------------+-----------+\n",
      "|employee_id|first_name|last_name|salary|   nationality|    phone_number|        ssn|\n",
      "+-----------+----------+---------+------+--------------+----------------+-----------+\n",
      "|          1|     Scott|    Tiger|1000.0| united states| +1 123 456 7890|123 45 6789|\n",
      "|          2|     Henry|     Ford|1250.0|         India|+91 234 567 8901|456 78 9123|\n",
      "|          3|      Nick|   Junior| 750.0|united KINGDOM|+44 111 111 1111|222 33 4444|\n",
      "|          4|      Bill|    Gomes|1500.0|     AUSTRALIA|+61 987 654 3210|789 12 6118|\n",
      "+-----------+----------+---------+------+--------------+----------------+-----------+\n",
      "\n"
     ]
    }
   ],
   "source": [
    "employeesDF.show()"
   ]
  },
  {
   "cell_type": "code",
   "execution_count": 48,
   "id": "2fc856e7",
   "metadata": {},
   "outputs": [
    {
     "name": "stdout",
     "output_type": "stream",
     "text": [
      "+-----------+----------+---------+------+--------------+----------------+-----------+\n",
      "|employee_id|first_name|last_name|salary|   nationality|    phone_number|        ssn|\n",
      "+-----------+----------+---------+------+--------------+----------------+-----------+\n",
      "|          1|     Scott|    Tiger|1000.0| UNITED STATES| +1 123 456 7890|123 45 6789|\n",
      "|          2|     Henry|     Ford|1250.0|         INDIA|+91 234 567 8901|456 78 9123|\n",
      "|          3|      Nick|   Junior| 750.0|UNITED KINGDOM|+44 111 111 1111|222 33 4444|\n",
      "|          4|      Bill|    Gomes|1500.0|     AUSTRALIA|+61 987 654 3210|789 12 6118|\n",
      "+-----------+----------+---------+------+--------------+----------------+-----------+\n",
      "\n"
     ]
    }
   ],
   "source": [
    "from pyspark.sql.functions import *\n",
    "from pyspark.sql.types import *\n",
    "employeesDF.withColumn(\"nationality\",upper(col(\"nationality\"))).show()"
   ]
  },
  {
   "cell_type": "code",
   "execution_count": 49,
   "id": "5c2010ff",
   "metadata": {},
   "outputs": [
    {
     "name": "stdout",
     "output_type": "stream",
     "text": [
      "+-----------+----------+---------+------+--------------+----------------+-----------+-----------------+\n",
      "|employee_id|first_name|last_name|salary|   nationality|    phone_number|        ssn|ssn_last_4_digits|\n",
      "+-----------+----------+---------+------+--------------+----------------+-----------+-----------------+\n",
      "|          1|     Scott|    Tiger|1000.0| united states| +1 123 456 7890|123 45 6789|             6789|\n",
      "|          2|     Henry|     Ford|1250.0|         India|+91 234 567 8901|456 78 9123|             9123|\n",
      "|          3|      Nick|   Junior| 750.0|united KINGDOM|+44 111 111 1111|222 33 4444|             4444|\n",
      "|          4|      Bill|    Gomes|1500.0|     AUSTRALIA|+61 987 654 3210|789 12 6118|             6118|\n",
      "+-----------+----------+---------+------+--------------+----------------+-----------+-----------------+\n",
      "\n"
     ]
    }
   ],
   "source": [
    "employeesDF.withColumn(\"ssn_last_4_digits\",expr('substring(ssn,-4)')).show()"
   ]
  },
  {
   "cell_type": "code",
   "execution_count": 53,
   "id": "50aaa866",
   "metadata": {},
   "outputs": [
    {
     "name": "stdout",
     "output_type": "stream",
     "text": [
      "+-----------+----------+---------+------+--------------+----------------+-----------+----------+------------+---------+\n",
      "|employee_id|first_name|last_name|salary|   nationality|    phone_number|        ssn|last_4_ssn|Country Code|Area Code|\n",
      "+-----------+----------+---------+------+--------------+----------------+-----------+----------+------------+---------+\n",
      "|          1|     Scott|    Tiger|1000.0| UNITED STATES| +1 123 456 7890|123 45 6789|      6789|          +1|      123|\n",
      "|          2|     Henry|     Ford|1250.0|         INDIA|+91 234 567 8901|456 78 9123|      9123|         +91|      234|\n",
      "|          3|      Nick|   Junior| 750.0|UNITED KINGDOM|+44 111 111 1111|222 33 4444|      4444|         +44|      111|\n",
      "|          4|      Bill|    Gomes|1500.0|     AUSTRALIA|+61 987 654 3210|789 12 6118|      6118|         +61|      987|\n",
      "+-----------+----------+---------+------+--------------+----------------+-----------+----------+------------+---------+\n",
      "\n"
     ]
    }
   ],
   "source": [
    "employeesDF.withColumn(\"nationality\", upper(col(\"nationality\"))).\\\n",
    "withColumn(\"last_4_ssn\",expr('substring(ssn,-4)')).\\\n",
    "withColumn(\"Country Code\", split(col(\"phone_number\"), \" \").getItem(0)).\\\n",
    "withColumn(\"Area Code\", split(col(\"phone_number\"), \" \").getItem(1)).show()"
   ]
  },
  {
   "cell_type": "code",
   "execution_count": 55,
   "id": "25c280e7",
   "metadata": {},
   "outputs": [
    {
     "name": "stdout",
     "output_type": "stream",
     "text": [
      "+-----------+----------+---------+------+--------------+----------------+-----------+---------+------------+---------+\n",
      "|employee_id|first_name|last_name|salary|   nationality|    phone_number|        ssn|ssn_last4|country_code|area_code|\n",
      "+-----------+----------+---------+------+--------------+----------------+-----------+---------+------------+---------+\n",
      "|          1|     Scott|    Tiger|1000.0| UNITED STATES| +1 123 456 7890|123 45 6789|     6789|           1|      123|\n",
      "|          2|     Henry|     Ford|1250.0|         INDIA|+91 234 567 8901|456 78 9123|     9123|          91|      234|\n",
      "|          3|      Nick|   Junior| 750.0|UNITED KINGDOM|+44 111 111 1111|222 33 4444|     4444|          44|      111|\n",
      "|          4|      Bill|    Gomes|1500.0|     AUSTRALIA|+61 987 654 3210|789 12 6118|     6118|          61|      987|\n",
      "+-----------+----------+---------+------+--------------+----------------+-----------+---------+------------+---------+\n",
      "\n"
     ]
    }
   ],
   "source": [
    "employeesDF. \\\n",
    "    withColumn(\"nationality\",upper(\"nationality\")).\\\n",
    "    withColumn(\"ssn_last4\", substring(col(\"ssn\"), -4, 4).cast(\"int\")).\\\n",
    "    withColumn(\"country_code\", split(\"phone_number\", \" \")[0].cast(\"int\")).\\\n",
    "    withColumn(\"area_code\", split(\"phone_number\", \" \")[1].cast(\"int\")).\\\n",
    "    show()"
   ]
  },
  {
   "cell_type": "code",
   "execution_count": 57,
   "id": "7c5234f4",
   "metadata": {},
   "outputs": [
    {
     "data": {
      "text/html": [
       "\n",
       "            <div>\n",
       "                <p><b>SparkSession - in-memory</b></p>\n",
       "                \n",
       "        <div>\n",
       "            <p><b>SparkContext</b></p>\n",
       "\n",
       "            <p><a href=\"http://ip-172-31-10-206.ap-south-1.compute.internal:4043\">Spark UI</a></p>\n",
       "\n",
       "            <dl>\n",
       "              <dt>Version</dt>\n",
       "                <dd><code>v3.4.1</code></dd>\n",
       "              <dt>Master</dt>\n",
       "                <dd><code>local[*]</code></dd>\n",
       "              <dt>AppName</dt>\n",
       "                <dd><code>RDDExample</code></dd>\n",
       "            </dl>\n",
       "        </div>\n",
       "        \n",
       "            </div>\n",
       "        "
      ],
      "text/plain": [
       "<pyspark.sql.session.SparkSession at 0x7f81b45b4dd0>"
      ]
     },
     "execution_count": 57,
     "metadata": {},
     "output_type": "execute_result"
    }
   ],
   "source": [
    "spark"
   ]
  },
  {
   "cell_type": "code",
   "execution_count": 60,
   "id": "dc974599",
   "metadata": {},
   "outputs": [
    {
     "name": "stdout",
     "output_type": "stream",
     "text": [
      "+--------------+-----+\n",
      "|   nationality|count|\n",
      "+--------------+-----+\n",
      "|         India|    1|\n",
      "| united states|    1|\n",
      "|united KINGDOM|    1|\n",
      "|     AUSTRALIA|    1|\n",
      "+--------------+-----+\n",
      "\n"
     ]
    }
   ],
   "source": [
    "employeesDF.groupBy(\"nationality\").count().show()"
   ]
  }
 ],
 "metadata": {
  "kernelspec": {
   "display_name": "Python 3 (ipykernel)",
   "language": "python",
   "name": "python3"
  },
  "language_info": {
   "codemirror_mode": {
    "name": "ipython",
    "version": 3
   },
   "file_extension": ".py",
   "mimetype": "text/x-python",
   "name": "python",
   "nbconvert_exporter": "python",
   "pygments_lexer": "ipython3",
   "version": "3.11.4"
  }
 },
 "nbformat": 4,
 "nbformat_minor": 5
}
