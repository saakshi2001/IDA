{
 "cells": [
  {
   "cell_type": "code",
   "execution_count": 0,
   "metadata": {
    "application/vnd.databricks.v1+cell": {
     "cellMetadata": {},
     "inputWidgets": {},
     "nuid": "f8ee7c3b-0297-416f-a94d-34c8572e02ed",
     "showTitle": false,
     "title": ""
    }
   },
   "outputs": [],
   "source": [
    "a=10\n",
    "type(a)"
   ]
  },
  {
   "cell_type": "code",
   "execution_count": 0,
   "metadata": {
    "application/vnd.databricks.v1+cell": {
     "cellMetadata": {},
     "inputWidgets": {},
     "nuid": "e94d20fa-99b3-4a28-90f1-65a9fc795599",
     "showTitle": false,
     "title": ""
    }
   },
   "outputs": [],
   "source": [
    "a=10.0\n",
    "type(a)"
   ]
  },
  {
   "cell_type": "code",
   "execution_count": 0,
   "metadata": {
    "application/vnd.databricks.v1+cell": {
     "cellMetadata": {},
     "inputWidgets": {},
     "nuid": "86c3f0f2-4168-415e-8a65-6336c344677a",
     "showTitle": false,
     "title": ""
    }
   },
   "outputs": [],
   "source": [
    "b=\"python\"\n",
    "print(type(b))"
   ]
  },
  {
   "cell_type": "code",
   "execution_count": 0,
   "metadata": {
    "application/vnd.databricks.v1+cell": {
     "cellMetadata": {},
     "inputWidgets": {},
     "nuid": "63800c79-623a-4b9a-a4ec-4a08edba5df8",
     "showTitle": false,
     "title": ""
    }
   },
   "outputs": [],
   "source": [
    "c='''Data\n",
    "Engineering\n",
    "Python''' #triple quotes used for multiline strings\n",
    "print(type(c))"
   ]
  },
  {
   "cell_type": "code",
   "execution_count": 0,
   "metadata": {
    "application/vnd.databricks.v1+cell": {
     "cellMetadata": {},
     "inputWidgets": {},
     "nuid": "ad791ff3-3caf-4a98-9d80-2c13257519b4",
     "showTitle": false,
     "title": ""
    }
   },
   "outputs": [],
   "source": [
    "a=True\n",
    "print(type(a))"
   ]
  },
  {
   "cell_type": "code",
   "execution_count": 0,
   "metadata": {
    "application/vnd.databricks.v1+cell": {
     "cellMetadata": {},
     "inputWidgets": {},
     "nuid": "3aee57b9-f952-4665-81db-eb947ea9d9c3",
     "showTitle": false,
     "title": ""
    }
   },
   "outputs": [],
   "source": [
    "a=10\n",
    "b=20\n",
    "c=a>b\n",
    "print(c)"
   ]
  },
  {
   "cell_type": "code",
   "execution_count": 0,
   "metadata": {
    "application/vnd.databricks.v1+cell": {
     "cellMetadata": {},
     "inputWidgets": {},
     "nuid": "7ae0fb74-ffeb-44dd-8a78-cd933588bee6",
     "showTitle": false,
     "title": ""
    }
   },
   "outputs": [],
   "source": [
    "print(True+True) #1+1\n",
    "print(True+False) #1+0\n",
    "print(False+True) #0+1\n",
    "print(False+False) #0+0"
   ]
  },
  {
   "cell_type": "code",
   "execution_count": 0,
   "metadata": {
    "application/vnd.databricks.v1+cell": {
     "cellMetadata": {},
     "inputWidgets": {},
     "nuid": "63c524da-54ca-4e53-b72c-2a48e187b2ce",
     "showTitle": false,
     "title": ""
    }
   },
   "outputs": [],
   "source": [
    "c=10+20i\n",
    "print(c)#wrong"
   ]
  },
  {
   "cell_type": "code",
   "execution_count": 0,
   "metadata": {
    "application/vnd.databricks.v1+cell": {
     "cellMetadata": {},
     "inputWidgets": {},
     "nuid": "9f183920-483c-4f17-bdf7-70374944f0dd",
     "showTitle": false,
     "title": ""
    }
   },
   "outputs": [],
   "source": [
    "c=10+20j#use this for complex numbers\n",
    "print(c)"
   ]
  },
  {
   "cell_type": "code",
   "execution_count": 0,
   "metadata": {
    "application/vnd.databricks.v1+cell": {
     "cellMetadata": {},
     "inputWidgets": {},
     "nuid": "ef7b2333-0588-4c12-90e2-d832b974e79c",
     "showTitle": false,
     "title": ""
    }
   },
   "outputs": [],
   "source": [
    "a=10\n",
    "print(id(a)) #place of a"
   ]
  },
  {
   "cell_type": "code",
   "execution_count": 0,
   "metadata": {
    "application/vnd.databricks.v1+cell": {
     "cellMetadata": {},
     "inputWidgets": {},
     "nuid": "057c13f9-44b3-4d7a-ad4a-bc21ecac12f8",
     "showTitle": false,
     "title": ""
    }
   },
   "outputs": [],
   "source": [
    "b=10\n",
    "print(id(a))#same place as a since they both point to object with value 10"
   ]
  },
  {
   "cell_type": "code",
   "execution_count": 0,
   "metadata": {
    "application/vnd.databricks.v1+cell": {
     "cellMetadata": {},
     "inputWidgets": {},
     "nuid": "df42859a-3853-42b0-94bb-899c0f024261",
     "showTitle": false,
     "title": ""
    }
   },
   "outputs": [],
   "source": [
    "a=20\n",
    "print(id(a))"
   ]
  },
  {
   "cell_type": "code",
   "execution_count": 0,
   "metadata": {
    "application/vnd.databricks.v1+cell": {
     "cellMetadata": {},
     "inputWidgets": {},
     "nuid": "42ef1e8c-8325-460a-9d2e-d1dc59a508cb",
     "showTitle": false,
     "title": ""
    }
   },
   "outputs": [],
   "source": [
    "s='Data Engineering'"
   ]
  },
  {
   "cell_type": "code",
   "execution_count": 0,
   "metadata": {
    "application/vnd.databricks.v1+cell": {
     "cellMetadata": {},
     "inputWidgets": {},
     "nuid": "23cd8e4e-702a-4375-b9c3-29a448909279",
     "showTitle": false,
     "title": ""
    }
   },
   "outputs": [],
   "source": [
    "s[-2]"
   ]
  },
  {
   "cell_type": "code",
   "execution_count": 0,
   "metadata": {
    "application/vnd.databricks.v1+cell": {
     "cellMetadata": {},
     "inputWidgets": {},
     "nuid": "7ac1585d-909c-4e70-abde-4e3fb1cbd4f1",
     "showTitle": false,
     "title": ""
    }
   },
   "outputs": [],
   "source": [
    "s[2]"
   ]
  },
  {
   "cell_type": "code",
   "execution_count": 0,
   "metadata": {
    "application/vnd.databricks.v1+cell": {
     "cellMetadata": {},
     "inputWidgets": {},
     "nuid": "a48eaaf4-145d-40a6-9bc8-d260526ae0a2",
     "showTitle": false,
     "title": ""
    }
   },
   "outputs": [],
   "source": [
    "s[0:4] #s[start:end-1]"
   ]
  },
  {
   "cell_type": "code",
   "execution_count": 0,
   "metadata": {
    "application/vnd.databricks.v1+cell": {
     "cellMetadata": {},
     "inputWidgets": {},
     "nuid": "44010d8f-09ce-40d1-af45-5f4bfd388400",
     "showTitle": false,
     "title": ""
    }
   },
   "outputs": [],
   "source": [
    "s='abcdefghijklmnopqrstuvwxyz'\n",
    "#get output mno\n",
    "s[12:15]"
   ]
  },
  {
   "cell_type": "code",
   "execution_count": 0,
   "metadata": {
    "application/vnd.databricks.v1+cell": {
     "cellMetadata": {},
     "inputWidgets": {},
     "nuid": "5b344d93-c836-405d-977e-4ce5e50d4416",
     "showTitle": false,
     "title": ""
    }
   },
   "outputs": [],
   "source": [
    "#get output xyz\n",
    "s[-3:]"
   ]
  },
  {
   "cell_type": "code",
   "execution_count": 0,
   "metadata": {
    "application/vnd.databricks.v1+cell": {
     "cellMetadata": {},
     "inputWidgets": {},
     "nuid": "769d1799-df80-4867-9c0b-4bdbb6afe0bd",
     "showTitle": false,
     "title": ""
    }
   },
   "outputs": [],
   "source": [
    "#get output from a to n\n",
    "s[:14]"
   ]
  },
  {
   "cell_type": "code",
   "execution_count": 0,
   "metadata": {
    "application/vnd.databricks.v1+cell": {
     "cellMetadata": {},
     "inputWidgets": {},
     "nuid": "849b478f-bcaa-4938-be26-70dad303904a",
     "showTitle": false,
     "title": ""
    },
    "scrolled": true
   },
   "outputs": [],
   "source": [
    "s[3:1000]"
   ]
  },
  {
   "cell_type": "code",
   "execution_count": 0,
   "metadata": {
    "application/vnd.databricks.v1+cell": {
     "cellMetadata": {},
     "inputWidgets": {},
     "nuid": "005fc1e3-2a01-4e99-93ab-d9b227041a76",
     "showTitle": false,
     "title": ""
    }
   },
   "outputs": [],
   "source": [
    "is_geological_survey_complete = True\n",
    "\n",
    "is_environmental_clearance_received = True\n",
    "\n",
    "is_market_demand_high = False"
   ]
  },
  {
   "cell_type": "code",
   "execution_count": 0,
   "metadata": {
    "application/vnd.databricks.v1+cell": {
     "cellMetadata": {},
     "inputWidgets": {},
     "nuid": "74720559-2bb0-4d8c-8f3e-8c5dffad7479",
     "showTitle": false,
     "title": ""
    }
   },
   "outputs": [],
   "source": [
    "should_start_drilling = is_geological_survey_complete and is_environmental_clearance_received and is_market_demand_high"
   ]
  },
  {
   "cell_type": "code",
   "execution_count": 0,
   "metadata": {
    "application/vnd.databricks.v1+cell": {
     "cellMetadata": {},
     "inputWidgets": {},
     "nuid": "94dfe305-fdbe-412d-8399-ce2e0cb9c575",
     "showTitle": false,
     "title": ""
    }
   },
   "outputs": [],
   "source": [
    "print(\"Should we start drilling?\",should_start_drilling)"
   ]
  },
  {
   "cell_type": "code",
   "execution_count": 0,
   "metadata": {
    "application/vnd.databricks.v1+cell": {
     "cellMetadata": {},
     "inputWidgets": {},
     "nuid": "15c39280-be95-451d-ae58-23f5f072f075",
     "showTitle": false,
     "title": ""
    }
   },
   "outputs": [],
   "source": [
    "# Boolean Variables\n",
    "\n",
    "HasExplorationPermit = True\n",
    "\n",
    "HasDrillingRights = True\n",
    "\n",
    "HasEnvironmentalApproval = False\n",
    "\n",
    "HasOilDiscovery = True\n",
    "\n",
    " \n",
    "\n",
    "# Logical Operations\n",
    "\n",
    "IsExplorationAllowed = HasExplorationPermit and HasDrillingRights and not HasEnvironmentalApproval\n",
    "\n",
    "IsDiscoveryProfitable = HasOilDiscovery and (HasExplorationPermit or HasDrillingRights)"
   ]
  },
  {
   "cell_type": "code",
   "execution_count": 0,
   "metadata": {
    "application/vnd.databricks.v1+cell": {
     "cellMetadata": {},
     "inputWidgets": {},
     "nuid": "2e7fa538-5cba-4fb9-acd9-28b92721adfd",
     "showTitle": false,
     "title": ""
    }
   },
   "outputs": [],
   "source": [
    "print(IsExplorationAllowed, IsDiscoveryProfitable)"
   ]
  },
  {
   "cell_type": "code",
   "execution_count": 0,
   "metadata": {
    "application/vnd.databricks.v1+cell": {
     "cellMetadata": {},
     "inputWidgets": {},
     "nuid": "5c8badf9-303c-4713-a736-8619b5109b80",
     "showTitle": false,
     "title": ""
    }
   },
   "outputs": [],
   "source": [
    "\"ten\"+\"twenty\""
   ]
  },
  {
   "cell_type": "code",
   "execution_count": 0,
   "metadata": {
    "application/vnd.databricks.v1+cell": {
     "cellMetadata": {},
     "inputWidgets": {},
     "nuid": "d4c1161b-6441-4e0b-8e11-c304d2808d4c",
     "showTitle": false,
     "title": ""
    }
   },
   "outputs": [],
   "source": [
    "\"ten\"*2"
   ]
  },
  {
   "cell_type": "code",
   "execution_count": 0,
   "metadata": {
    "application/vnd.databricks.v1+cell": {
     "cellMetadata": {},
     "inputWidgets": {},
     "nuid": "e5868950-152e-4036-b16b-822e92b0d086",
     "showTitle": false,
     "title": ""
    }
   },
   "outputs": [],
   "source": [
    "#LIST: [] brackets useds\n",
    "#can have duplicates, are new tables(can be changed), order is preserved(1st element will always be 1st unlike set), mutable, heterogenous objects are allowed, indexing and slicing are possible\n",
    "a=[10,\"Python\",10,10,5,True]\n"
   ]
  },
  {
   "cell_type": "code",
   "execution_count": 0,
   "metadata": {
    "application/vnd.databricks.v1+cell": {
     "cellMetadata": {},
     "inputWidgets": {},
     "nuid": "59dca896-998c-41dd-b935-ea996bcab735",
     "showTitle": false,
     "title": ""
    }
   },
   "outputs": [],
   "source": [
    "a[0]"
   ]
  },
  {
   "cell_type": "code",
   "execution_count": 0,
   "metadata": {
    "application/vnd.databricks.v1+cell": {
     "cellMetadata": {},
     "inputWidgets": {},
     "nuid": "bfb7a8bd-fe0a-44a5-8925-a71865e68ac7",
     "showTitle": false,
     "title": ""
    }
   },
   "outputs": [],
   "source": [
    "a.append(999)\n",
    "print(a[-1])"
   ]
  },
  {
   "cell_type": "code",
   "execution_count": 0,
   "metadata": {
    "application/vnd.databricks.v1+cell": {
     "cellMetadata": {},
     "inputWidgets": {},
     "nuid": "10466754-3818-48ba-bb18-32da562bab73",
     "showTitle": false,
     "title": ""
    }
   },
   "outputs": [],
   "source": [
    "print(id(a))"
   ]
  },
  {
   "cell_type": "code",
   "execution_count": 0,
   "metadata": {
    "application/vnd.databricks.v1+cell": {
     "cellMetadata": {},
     "inputWidgets": {},
     "nuid": "3b5578bf-45cb-4b9a-bbce-5f4c80746757",
     "showTitle": false,
     "title": ""
    }
   },
   "outputs": [],
   "source": [
    "a.remove(10)\n",
    "print(a)"
   ]
  },
  {
   "cell_type": "code",
   "execution_count": 0,
   "metadata": {
    "application/vnd.databricks.v1+cell": {
     "cellMetadata": {},
     "inputWidgets": {},
     "nuid": "3210d4de-506a-4fb7-a004-6d3beeb798cc",
     "showTitle": false,
     "title": ""
    }
   },
   "outputs": [],
   "source": [
    "#Tuple:use () brackets\n",
    "#immutable, rest all same as list\n",
    "a=(\"Well A\",\"2023-09-15\",\"Pipeline\",True,100,100)"
   ]
  },
  {
   "cell_type": "code",
   "execution_count": 0,
   "metadata": {
    "application/vnd.databricks.v1+cell": {
     "cellMetadata": {},
     "inputWidgets": {},
     "nuid": "8a0e9003-81b4-44f9-89fa-93e54f5ac795",
     "showTitle": false,
     "title": ""
    }
   },
   "outputs": [],
   "source": [
    "type(a)"
   ]
  },
  {
   "cell_type": "code",
   "execution_count": 0,
   "metadata": {
    "application/vnd.databricks.v1+cell": {
     "cellMetadata": {},
     "inputWidgets": {},
     "nuid": "59df7d12-2daf-4499-9a19-6f489b2f3888",
     "showTitle": false,
     "title": ""
    }
   },
   "outputs": [],
   "source": [
    "#Formatted string\n",
    "name=\"Saakshi\"\n",
    "working=\"Data Engineer\"\n",
    "print(\"I am {} working as {}\".format(name,working))\n",
    "print(\"I am %s working as a %s\"%(name,working))#no comma or dot after sentence"
   ]
  },
  {
   "cell_type": "code",
   "execution_count": 0,
   "metadata": {
    "application/vnd.databricks.v1+cell": {
     "cellMetadata": {},
     "inputWidgets": {},
     "nuid": "e9e66370-7386-43f8-bf54-c9a71ec91391",
     "showTitle": false,
     "title": ""
    }
   },
   "outputs": [],
   "source": [
    "#fstream\n",
    "print(f\"i am {name} working as {working}\")"
   ]
  },
  {
   "cell_type": "code",
   "execution_count": 0,
   "metadata": {
    "application/vnd.databricks.v1+cell": {
     "cellMetadata": {},
     "inputWidgets": {},
     "nuid": "b29ffc8a-e7a2-4a15-94f3-94cc0e3c52bd",
     "showTitle": false,
     "title": ""
    }
   },
   "outputs": [],
   "source": [
    "# Employee details\n",
    "name = \"John Doe\"\n",
    "job_title = \"Senior Geologist\"\n",
    "department = \"Geology\"\n",
    "email = \"johndoe@email.com\"\n",
    "phone = \"123-456-7890\""
   ]
  },
  {
   "cell_type": "code",
   "execution_count": 0,
   "metadata": {
    "application/vnd.databricks.v1+cell": {
     "cellMetadata": {},
     "inputWidgets": {},
     "nuid": "90f2a7a9-8769-40f4-85fd-45d714db4ac7",
     "showTitle": false,
     "title": ""
    }
   },
   "outputs": [],
   "source": [
    "employee_info=f\"Employee Information: \\nName: {name} \\nJob Title:{job_title} \\nDepartment: {department} \\nEmail:{email} \\nPhone:{phone} \"\n",
    "print(employee_info)"
   ]
  },
  {
   "cell_type": "code",
   "execution_count": 0,
   "metadata": {
    "application/vnd.databricks.v1+cell": {
     "cellMetadata": {},
     "inputWidgets": {},
     "nuid": "720ee057-9d90-4e33-9d86-a37a21f193d8",
     "showTitle": false,
     "title": ""
    }
   },
   "outputs": [],
   "source": [
    "#Set: uses {} brackets\n",
    "#heterogenous object, no duplicated allowed, order is not preserved, slicing and indexing is not possible\n",
    "c={10,10.5,\"Shell\",True,False,10}\n",
    "print(c)"
   ]
  },
  {
   "cell_type": "code",
   "execution_count": 0,
   "metadata": {
    "application/vnd.databricks.v1+cell": {
     "cellMetadata": {},
     "inputWidgets": {},
     "nuid": "0867f472-b0dd-4424-aa5c-0e4f6f9444e8",
     "showTitle": false,
     "title": ""
    }
   },
   "outputs": [],
   "source": [
    "c.add(\"SQL\")\n",
    "print(c)"
   ]
  },
  {
   "cell_type": "code",
   "execution_count": 0,
   "metadata": {
    "application/vnd.databricks.v1+cell": {
     "cellMetadata": {},
     "inputWidgets": {},
     "nuid": "57ad9649-71e9-42a6-a2f0-2cc599393665",
     "showTitle": false,
     "title": ""
    }
   },
   "outputs": [],
   "source": [
    "#Dictionary: uses {} brackets\n",
    "#key value pair\n",
    "d={\"location\":\"Well A\", \"Start Date\":\"2023-09-15\",\"duration\":45, \"End\":True}\n",
    "print(d)"
   ]
  },
  {
   "cell_type": "code",
   "execution_count": 0,
   "metadata": {
    "application/vnd.databricks.v1+cell": {
     "cellMetadata": {},
     "inputWidgets": {},
     "nuid": "09509648-387d-4724-85a4-6e21e46ce356",
     "showTitle": false,
     "title": ""
    }
   },
   "outputs": [],
   "source": [
    "d['location']='Well B'\n",
    "print(d)"
   ]
  },
  {
   "cell_type": "code",
   "execution_count": 0,
   "metadata": {
    "application/vnd.databricks.v1+cell": {
     "cellMetadata": {},
     "inputWidgets": {},
     "nuid": "7e074b8a-533a-450c-a883-3fef4c925a14",
     "showTitle": false,
     "title": ""
    }
   },
   "outputs": [],
   "source": [
    "# List of Equipment\n",
    "refineryEquipment = [\"Crude Distillation Unit\", \"Catalytic Cracking Unit\", \"Hydrotreating Unit\", \"FCC Unit\"]\n",
    "\n",
    " \n",
    "\n",
    "# Membership Operator\n",
    "IsUnitInstalled = \"Hydrotreating Unit\" in refineryEquipment\n",
    "IsUnitObsolete = \"Thermal Cracking Unit\" not in refineryEquipment\n",
    "\n",
    " \n",
    "\n",
    "print(\"Is Hydrotreating Unit installed?\", IsUnitInstalled)\n",
    "print(\"Is Thermal Cracking Unit obsolete?\", IsUnitObsolete)"
   ]
  },
  {
   "cell_type": "code",
   "execution_count": 0,
   "metadata": {
    "application/vnd.databricks.v1+cell": {
     "cellMetadata": {},
     "inputWidgets": {},
     "nuid": "1670f38c-1e58-4e5c-b741-031fc6f5ddea",
     "showTitle": false,
     "title": ""
    }
   },
   "outputs": [],
   "source": [
    "employees = [\n",
    "    \"John Doe, Senior Geologist, Geology, johndoe@email.com, 123-456-7890\",\n",
    "    \"Jane Smith, Drilling Engineer, Drilling, janesmith@email.com, 987-654-3210\",\n",
    "    \"Bob Johnson, Reservoir Engineer, Reservoir Engineering, bobjohnson@email.com, 456-789-0123\",\n",
    "    \"Alice Brown, Petrophysicist, Petrophysics, alicebrown@email.com, 789-012-3456\"\n",
    "]"
   ]
  },
  {
   "cell_type": "code",
   "execution_count": 0,
   "metadata": {
    "application/vnd.databricks.v1+cell": {
     "cellMetadata": {},
     "inputWidgets": {},
     "nuid": "811d3769-cc2b-4cea-a221-754a7d7e5d87",
     "showTitle": false,
     "title": ""
    }
   },
   "outputs": [],
   "source": [
    "#Access and print the details of the first employee in the list.\n",
    "employees[0]"
   ]
  },
  {
   "cell_type": "code",
   "execution_count": 0,
   "metadata": {
    "application/vnd.databricks.v1+cell": {
     "cellMetadata": {},
     "inputWidgets": {},
     "nuid": "49052df9-3221-45c4-98b2-0ca73aa33cfa",
     "showTitle": false,
     "title": ""
    }
   },
   "outputs": [],
   "source": [
    "#Add a new employee\n",
    "new_employee = \"Eva Green, Drilling Technician, Drilling, evagreen@email.com, 111-222-3333\"\n",
    "employees.append(new_employee)\n",
    "print(employees)"
   ]
  },
  {
   "cell_type": "code",
   "execution_count": 0,
   "metadata": {
    "application/vnd.databricks.v1+cell": {
     "cellMetadata": {},
     "inputWidgets": {},
     "nuid": "02680dbf-176a-4d78-9c0b-7aa148a7bc1c",
     "showTitle": false,
     "title": ""
    }
   },
   "outputs": [],
   "source": [
    "#Selection Statement"
   ]
  },
  {
   "cell_type": "code",
   "execution_count": 0,
   "metadata": {
    "application/vnd.databricks.v1+cell": {
     "cellMetadata": {},
     "inputWidgets": {},
     "nuid": "d28e539b-bdb8-424c-a0b9-17e69e1456b4",
     "showTitle": false,
     "title": ""
    }
   },
   "outputs": [],
   "source": [
    "low_fuel_thresold=1000\n",
    "critical_fuel_thresold=500\n",
    "current_fuel_level=int(input(\"enter current fuel level\"))\n"
   ]
  },
  {
   "cell_type": "code",
   "execution_count": 0,
   "metadata": {
    "application/vnd.databricks.v1+cell": {
     "cellMetadata": {},
     "inputWidgets": {},
     "nuid": "0142bcf5-a55a-4ca7-8dce-bb00229e40f8",
     "showTitle": false,
     "title": ""
    }
   },
   "outputs": [],
   "source": [
    "if(current_fuel_level<critical_fuel_threshold):\n",
    "    print(\"Critical fuel level reached.Take immediate action.\")\n",
    "elif(current_fuel_level<low_fuel_threshold):\n",
    "    print(\"Send fuel low alert\")\n",
    "else:\n",
    "    print(\"continue fueling\")\n"
   ]
  },
  {
   "cell_type": "code",
   "execution_count": 0,
   "metadata": {
    "application/vnd.databricks.v1+cell": {
     "cellMetadata": {},
     "inputWidgets": {},
     "nuid": "26645bf2-4a3d-41ed-90e9-e2a3fcfd9b57",
     "showTitle": false,
     "title": ""
    }
   },
   "outputs": [],
   "source": [
    "l1=['a','b','c']\n",
    "l2=['Sales','IT','Finance']\n",
    "l=list(zip(l1,l2))\n",
    "print(l)\n",
    "print(type(l))"
   ]
  },
  {
   "cell_type": "code",
   "execution_count": 0,
   "metadata": {
    "application/vnd.databricks.v1+cell": {
     "cellMetadata": {},
     "inputWidgets": {},
     "nuid": "765f15bf-945e-44f1-8096-7f46f36a005b",
     "showTitle": false,
     "title": ""
    }
   },
   "outputs": [],
   "source": [
    "oil_gas_data = [\n",
    "    (\"Field A\", \"Texas\", 500000),\n",
    "    (\"Field B\", \"Alaska\", 800000),\n",
    "    (\"Field C\", \"North Sea\", 300000),\n",
    "    (\"Field D\", \"Gulf of Mexico\", 600000),\n",
    "]\n",
    "field_name,location,reserve=zip(*oil_gas_data)# * shows length of list"
   ]
  },
  {
   "cell_type": "code",
   "execution_count": 0,
   "metadata": {
    "application/vnd.databricks.v1+cell": {
     "cellMetadata": {},
     "inputWidgets": {},
     "nuid": "8505dc29-a442-4034-b753-3bdb5c03783c",
     "showTitle": false,
     "title": ""
    }
   },
   "outputs": [],
   "source": [
    "print(field_name)\n",
    "print(location)\n",
    "print(reserve)"
   ]
  },
  {
   "cell_type": "code",
   "execution_count": 0,
   "metadata": {
    "application/vnd.databricks.v1+cell": {
     "cellMetadata": {},
     "inputWidgets": {},
     "nuid": "acf223eb-c1c1-4cfc-8d21-5800b72760b4",
     "showTitle": false,
     "title": ""
    }
   },
   "outputs": [],
   "source": [
    "i=list(enumerate(location))\n",
    "print(i)"
   ]
  },
  {
   "cell_type": "code",
   "execution_count": 0,
   "metadata": {
    "application/vnd.databricks.v1+cell": {
     "cellMetadata": {},
     "inputWidgets": {},
     "nuid": "92a89c1d-1729-4989-825e-f5df4c259e4d",
     "showTitle": false,
     "title": ""
    }
   },
   "outputs": [],
   "source": [
    "z=list(enumerate(field_name))\n",
    "print(z)"
   ]
  },
  {
   "cell_type": "code",
   "execution_count": 0,
   "metadata": {
    "application/vnd.databricks.v1+cell": {
     "cellMetadata": {},
     "inputWidgets": {},
     "nuid": "5425f324-d4c8-4e5b-a067-d725d7ee2142",
     "showTitle": false,
     "title": ""
    }
   },
   "outputs": [],
   "source": [
    "for index, field_data in enumerate(oil_gas_data):\n",
    "    field_name, location, reserve = field_data\n",
    "    print(f\"Field {index+1}: {field_name} is located in {location} with reserves of {reserve} barrels.\")"
   ]
  },
  {
   "cell_type": "code",
   "execution_count": 0,
   "metadata": {
    "application/vnd.databricks.v1+cell": {
     "cellMetadata": {},
     "inputWidgets": {},
     "nuid": "b456c1b8-5feb-447e-8f2b-1e5d30bea974",
     "showTitle": false,
     "title": ""
    }
   },
   "outputs": [],
   "source": [
    "from collections import Counter\n",
    "location_count=Counter(location)"
   ]
  },
  {
   "cell_type": "code",
   "execution_count": 0,
   "metadata": {
    "application/vnd.databricks.v1+cell": {
     "cellMetadata": {},
     "inputWidgets": {},
     "nuid": "84c2b61d-3755-44b0-b07a-ae84c75066bb",
     "showTitle": false,
     "title": ""
    }
   },
   "outputs": [],
   "source": [
    "print(location_count)"
   ]
  },
  {
   "cell_type": "code",
   "execution_count": 0,
   "metadata": {
    "application/vnd.databricks.v1+cell": {
     "cellMetadata": {},
     "inputWidgets": {},
     "nuid": "fe668ec9-4816-48d8-9150-b1407f5d2b6a",
     "showTitle": false,
     "title": ""
    }
   },
   "outputs": [],
   "source": []
  }
 ],
 "metadata": {
  "application/vnd.databricks.v1+notebook": {
   "dashboards": [],
   "language": "python",
   "notebookMetadata": {},
   "notebookName": "Saakshi15Sept",
   "widgets": {}
  },
  "kernelspec": {
   "display_name": "Python 3 (ipykernel)",
   "language": "python",
   "name": "python3"
  },
  "language_info": {
   "codemirror_mode": {
    "name": "ipython",
    "version": 3
   },
   "file_extension": ".py",
   "mimetype": "text/x-python",
   "name": "python",
   "nbconvert_exporter": "python",
   "pygments_lexer": "ipython3",
   "version": "3.11.4"
  }
 },
 "nbformat": 4,
 "nbformat_minor": 0
}
