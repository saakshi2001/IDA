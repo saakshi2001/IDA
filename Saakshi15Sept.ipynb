{
 "cells": [
  {
   "cell_type": "code",
   "execution_count": 1,
   "id": "18008dce",
   "metadata": {},
   "outputs": [
    {
     "data": {
      "text/plain": [
       "int"
      ]
     },
     "execution_count": 1,
     "metadata": {},
     "output_type": "execute_result"
    }
   ],
   "source": [
    "a=10\n",
    "type(a)"
   ]
  },
  {
   "cell_type": "code",
   "execution_count": 2,
   "id": "a8a17451",
   "metadata": {},
   "outputs": [
    {
     "data": {
      "text/plain": [
       "float"
      ]
     },
     "execution_count": 2,
     "metadata": {},
     "output_type": "execute_result"
    }
   ],
   "source": [
    "a=10.0\n",
    "type(a)"
   ]
  },
  {
   "cell_type": "code",
   "execution_count": 4,
   "id": "4ec105da",
   "metadata": {},
   "outputs": [
    {
     "name": "stdout",
     "output_type": "stream",
     "text": [
      "<class 'str'>\n"
     ]
    }
   ],
   "source": [
    "b=\"python\"\n",
    "print(type(b))"
   ]
  },
  {
   "cell_type": "code",
   "execution_count": 7,
   "id": "aef8afb8",
   "metadata": {},
   "outputs": [
    {
     "name": "stdout",
     "output_type": "stream",
     "text": [
      "<class 'str'>\n"
     ]
    }
   ],
   "source": [
    "c='''Data\n",
    "Engineering\n",
    "Python''' #triple quotes used for multiline strings\n",
    "print(type(c))"
   ]
  },
  {
   "cell_type": "code",
   "execution_count": 9,
   "id": "97acd508",
   "metadata": {},
   "outputs": [
    {
     "name": "stdout",
     "output_type": "stream",
     "text": [
      "<class 'bool'>\n"
     ]
    }
   ],
   "source": [
    "a=True\n",
    "print(type(a))"
   ]
  },
  {
   "cell_type": "code",
   "execution_count": 11,
   "id": "2a6807d4",
   "metadata": {},
   "outputs": [
    {
     "name": "stdout",
     "output_type": "stream",
     "text": [
      "False\n"
     ]
    }
   ],
   "source": [
    "a=10\n",
    "b=20\n",
    "c=a>b\n",
    "print(c)"
   ]
  },
  {
   "cell_type": "code",
   "execution_count": 13,
   "id": "93df07b4",
   "metadata": {},
   "outputs": [
    {
     "name": "stdout",
     "output_type": "stream",
     "text": [
      "2\n",
      "1\n",
      "1\n",
      "0\n"
     ]
    }
   ],
   "source": [
    "print(True+True) #1+1\n",
    "print(True+False) #1+0\n",
    "print(False+True) #0+1\n",
    "print(False+False) #0+0"
   ]
  },
  {
   "cell_type": "code",
   "execution_count": 15,
   "id": "2deef834",
   "metadata": {},
   "outputs": [
    {
     "ename": "SyntaxError",
     "evalue": "invalid decimal literal (1471258899.py, line 1)",
     "output_type": "error",
     "traceback": [
      "\u001b[0;36m  Cell \u001b[0;32mIn[15], line 1\u001b[0;36m\u001b[0m\n\u001b[0;31m    c=10+20i\u001b[0m\n\u001b[0m          ^\u001b[0m\n\u001b[0;31mSyntaxError\u001b[0m\u001b[0;31m:\u001b[0m invalid decimal literal\n"
     ]
    }
   ],
   "source": [
    "c=10+20i\n",
    "print(c)#wrong"
   ]
  },
  {
   "cell_type": "code",
   "execution_count": 17,
   "id": "ef732f6e",
   "metadata": {},
   "outputs": [
    {
     "name": "stdout",
     "output_type": "stream",
     "text": [
      "(10+20j)\n"
     ]
    }
   ],
   "source": [
    "c=10+20j#use this for complex numbers\n",
    "print(c)"
   ]
  },
  {
   "cell_type": "code",
   "execution_count": 19,
   "id": "e4a3daa8",
   "metadata": {},
   "outputs": [
    {
     "name": "stdout",
     "output_type": "stream",
     "text": [
      "8885288\n"
     ]
    }
   ],
   "source": [
    "a=10\n",
    "print(id(a)) #place of a"
   ]
  },
  {
   "cell_type": "code",
   "execution_count": 21,
   "id": "46503ad3",
   "metadata": {},
   "outputs": [
    {
     "name": "stdout",
     "output_type": "stream",
     "text": [
      "8885288\n"
     ]
    }
   ],
   "source": [
    "b=10\n",
    "print(id(a))#same place as a since they both point to object with value 10"
   ]
  },
  {
   "cell_type": "code",
   "execution_count": 23,
   "id": "ece6a48b",
   "metadata": {},
   "outputs": [
    {
     "name": "stdout",
     "output_type": "stream",
     "text": [
      "8885608\n"
     ]
    }
   ],
   "source": [
    "a=20\n",
    "print(id(a))"
   ]
  },
  {
   "cell_type": "code",
   "execution_count": 25,
   "id": "047e0146",
   "metadata": {},
   "outputs": [],
   "source": [
    "s='Data Engineering'"
   ]
  },
  {
   "cell_type": "code",
   "execution_count": 27,
   "id": "f982abd6",
   "metadata": {},
   "outputs": [
    {
     "data": {
      "text/plain": [
       "'n'"
      ]
     },
     "execution_count": 27,
     "metadata": {},
     "output_type": "execute_result"
    }
   ],
   "source": [
    "s[-2]"
   ]
  },
  {
   "cell_type": "code",
   "execution_count": 29,
   "id": "0adb96a3",
   "metadata": {},
   "outputs": [
    {
     "data": {
      "text/plain": [
       "'t'"
      ]
     },
     "execution_count": 29,
     "metadata": {},
     "output_type": "execute_result"
    }
   ],
   "source": [
    "s[2]"
   ]
  },
  {
   "cell_type": "code",
   "execution_count": 31,
   "id": "0ce6dfec",
   "metadata": {},
   "outputs": [
    {
     "data": {
      "text/plain": [
       "'Data'"
      ]
     },
     "execution_count": 31,
     "metadata": {},
     "output_type": "execute_result"
    }
   ],
   "source": [
    "s[0:4] #s[start:end-1]"
   ]
  },
  {
   "cell_type": "code",
   "execution_count": 33,
   "id": "2e0c3bc5",
   "metadata": {},
   "outputs": [
    {
     "data": {
      "text/plain": [
       "'mno'"
      ]
     },
     "execution_count": 33,
     "metadata": {},
     "output_type": "execute_result"
    }
   ],
   "source": [
    "s='abcdefghijklmnopqrstuvwxyz'\n",
    "#get output mno\n",
    "s[12:15]"
   ]
  },
  {
   "cell_type": "code",
   "execution_count": 35,
   "id": "fcb7a3b5",
   "metadata": {},
   "outputs": [
    {
     "data": {
      "text/plain": [
       "'xyz'"
      ]
     },
     "execution_count": 35,
     "metadata": {},
     "output_type": "execute_result"
    }
   ],
   "source": [
    "#get output xyz\n",
    "s[-3:]"
   ]
  },
  {
   "cell_type": "code",
   "execution_count": 37,
   "id": "1e87b21b",
   "metadata": {},
   "outputs": [
    {
     "data": {
      "text/plain": [
       "'abcdefghijklmn'"
      ]
     },
     "execution_count": 37,
     "metadata": {},
     "output_type": "execute_result"
    }
   ],
   "source": [
    "#get output from a to n\n",
    "s[:14]"
   ]
  },
  {
   "cell_type": "code",
   "execution_count": 2,
   "id": "09542b88",
   "metadata": {
    "scrolled": true
   },
   "outputs": [
    {
     "ename": "NameError",
     "evalue": "name 's' is not defined",
     "output_type": "error",
     "traceback": [
      "\u001b[0;31m---------------------------------------------------------------------------\u001b[0m",
      "\u001b[0;31mNameError\u001b[0m                                 Traceback (most recent call last)",
      "Cell \u001b[0;32mIn[2], line 1\u001b[0m\n\u001b[0;32m----> 1\u001b[0m s[\u001b[38;5;241m3\u001b[39m:\u001b[38;5;241m1000\u001b[39m]\n",
      "\u001b[0;31mNameError\u001b[0m: name 's' is not defined"
     ]
    }
   ],
   "source": [
    "s[3:1000]"
   ]
  },
  {
   "cell_type": "code",
   "execution_count": 4,
   "id": "4fe7055e",
   "metadata": {},
   "outputs": [],
   "source": [
    "is_geological_survey_complete = True\n",
    "\n",
    "is_environmental_clearance_received = True\n",
    "\n",
    "is_market_demand_high = False"
   ]
  },
  {
   "cell_type": "code",
   "execution_count": 6,
   "id": "441af4d8",
   "metadata": {},
   "outputs": [],
   "source": [
    "should_start_drilling = is_geological_survey_complete and is_environmental_clearance_received and is_market_demand_high"
   ]
  },
  {
   "cell_type": "code",
   "execution_count": 8,
   "id": "6b33dca2",
   "metadata": {},
   "outputs": [
    {
     "name": "stdout",
     "output_type": "stream",
     "text": [
      "Should we start drilling? False\n"
     ]
    }
   ],
   "source": [
    "print(\"Should we start drilling?\",should_start_drilling)"
   ]
  },
  {
   "cell_type": "code",
   "execution_count": 11,
   "id": "b4ae937f",
   "metadata": {},
   "outputs": [],
   "source": [
    "# Boolean Variables\n",
    "\n",
    "HasExplorationPermit = True\n",
    "\n",
    "HasDrillingRights = True\n",
    "\n",
    "HasEnvironmentalApproval = False\n",
    "\n",
    "HasOilDiscovery = True\n",
    "\n",
    " \n",
    "\n",
    "# Logical Operations\n",
    "\n",
    "IsExplorationAllowed = HasExplorationPermit and HasDrillingRights and not HasEnvironmentalApproval\n",
    "\n",
    "IsDiscoveryProfitable = HasOilDiscovery and (HasExplorationPermit or HasDrillingRights)"
   ]
  },
  {
   "cell_type": "code",
   "execution_count": 13,
   "id": "e1f30fc1",
   "metadata": {},
   "outputs": [
    {
     "name": "stdout",
     "output_type": "stream",
     "text": [
      "True True\n"
     ]
    }
   ],
   "source": [
    "print(IsExplorationAllowed, IsDiscoveryProfitable)"
   ]
  },
  {
   "cell_type": "code",
   "execution_count": 17,
   "id": "3efcbfec",
   "metadata": {},
   "outputs": [
    {
     "data": {
      "text/plain": [
       "'tentwenty'"
      ]
     },
     "execution_count": 17,
     "metadata": {},
     "output_type": "execute_result"
    }
   ],
   "source": [
    "\"ten\"+\"twenty\""
   ]
  },
  {
   "cell_type": "code",
   "execution_count": 19,
   "id": "c852665f",
   "metadata": {},
   "outputs": [
    {
     "data": {
      "text/plain": [
       "'tenten'"
      ]
     },
     "execution_count": 19,
     "metadata": {},
     "output_type": "execute_result"
    }
   ],
   "source": [
    "\"ten\"*2"
   ]
  },
  {
   "cell_type": "code",
   "execution_count": 21,
   "id": "a1ed5492",
   "metadata": {},
   "outputs": [],
   "source": [
    "#LIST: [] brackets useds\n",
    "#can have duplicates, are new tables(can be changed), order is preserved(1st element will always be 1st unlike set), mutable, heterogenous objects are allowed, indexing and slicing are possible\n",
    "a=[10,\"Python\",10,10,5,True]\n"
   ]
  },
  {
   "cell_type": "code",
   "execution_count": 23,
   "id": "69282db4",
   "metadata": {},
   "outputs": [
    {
     "data": {
      "text/plain": [
       "10"
      ]
     },
     "execution_count": 23,
     "metadata": {},
     "output_type": "execute_result"
    }
   ],
   "source": [
    "a[0]"
   ]
  },
  {
   "cell_type": "code",
   "execution_count": 25,
   "id": "e07d8ceb",
   "metadata": {},
   "outputs": [
    {
     "name": "stdout",
     "output_type": "stream",
     "text": [
      "999\n"
     ]
    }
   ],
   "source": [
    "a.append(999)\n",
    "print(a[-1])"
   ]
  },
  {
   "cell_type": "code",
   "execution_count": 27,
   "id": "ea2bd070",
   "metadata": {},
   "outputs": [
    {
     "name": "stdout",
     "output_type": "stream",
     "text": [
      "140592871480576\n"
     ]
    }
   ],
   "source": [
    "print(id(a))"
   ]
  },
  {
   "cell_type": "code",
   "execution_count": 29,
   "id": "dce78571",
   "metadata": {},
   "outputs": [
    {
     "name": "stdout",
     "output_type": "stream",
     "text": [
      "['Python', 10, 5, True, 999, 999]\n"
     ]
    }
   ],
   "source": [
    "a.remove(10)\n",
    "print(a)"
   ]
  },
  {
   "cell_type": "code",
   "execution_count": 31,
   "id": "acd5faa0",
   "metadata": {},
   "outputs": [],
   "source": [
    "#Tuple:use () brackets\n",
    "#immutable, rest all same as list\n",
    "a=(\"Well A\",\"2023-09-15\",\"Pipeline\",True,100,100)"
   ]
  },
  {
   "cell_type": "code",
   "execution_count": 34,
   "id": "98789cde",
   "metadata": {},
   "outputs": [
    {
     "data": {
      "text/plain": [
       "tuple"
      ]
     },
     "execution_count": 34,
     "metadata": {},
     "output_type": "execute_result"
    }
   ],
   "source": [
    "type(a)"
   ]
  },
  {
   "cell_type": "code",
   "execution_count": 39,
   "id": "ae94ebd3",
   "metadata": {},
   "outputs": [
    {
     "name": "stdout",
     "output_type": "stream",
     "text": [
      "I am Saakshi working as Data Engineer\n",
      "I am Saakshi working as a Data Engineer\n"
     ]
    }
   ],
   "source": [
    "#Formatted string\n",
    "name=\"Saakshi\"\n",
    "working=\"Data Engineer\"\n",
    "print(\"I am {} working as {}\".format(name,working))\n",
    "print(\"I am %s working as a %s\"%(name,working))#no comma or dot after sentence"
   ]
  },
  {
   "cell_type": "code",
   "execution_count": 44,
   "id": "f8988637",
   "metadata": {},
   "outputs": [
    {
     "name": "stdout",
     "output_type": "stream",
     "text": [
      "i am Saakshi working as Data Engineer\n"
     ]
    }
   ],
   "source": [
    "#fstream\n",
    "print(f\"i am {name} working as {working}\")"
   ]
  },
  {
   "cell_type": "code",
   "execution_count": 47,
   "id": "1e59d044",
   "metadata": {},
   "outputs": [],
   "source": [
    "# Employee details\n",
    "name = \"John Doe\"\n",
    "job_title = \"Senior Geologist\"\n",
    "department = \"Geology\"\n",
    "email = \"johndoe@email.com\"\n",
    "phone = \"123-456-7890\""
   ]
  },
  {
   "cell_type": "code",
   "execution_count": 49,
   "id": "5e2239a5",
   "metadata": {},
   "outputs": [
    {
     "name": "stdout",
     "output_type": "stream",
     "text": [
      "Employee Information: \n",
      "Name: John Doe \n",
      "Job Title:Senior Geologist \n",
      "Department: Geology \n",
      "Email:johndoe@email.com \n",
      "Phone:123-456-7890 \n"
     ]
    }
   ],
   "source": [
    "employee_info=f\"Employee Information: \\nName: {name} \\nJob Title:{job_title} \\nDepartment: {department} \\nEmail:{email} \\nPhone:{phone} \"\n",
    "print(employee_info)"
   ]
  },
  {
   "cell_type": "code",
   "execution_count": 51,
   "id": "a136c2b8",
   "metadata": {},
   "outputs": [
    {
     "name": "stdout",
     "output_type": "stream",
     "text": [
      "{False, True, 10.5, 'Shell', 10}\n"
     ]
    }
   ],
   "source": [
    "#Set: uses {} brackets\n",
    "#heterogenous object, no duplicated allowed, order is not preserved, slicing and indexing is not possible\n",
    "c={10,10.5,\"Shell\",True,False,10}\n",
    "print(c)"
   ]
  },
  {
   "cell_type": "code",
   "execution_count": 53,
   "id": "e6029a8f",
   "metadata": {},
   "outputs": [
    {
     "name": "stdout",
     "output_type": "stream",
     "text": [
      "{False, True, 'SQL', 10.5, 'Shell', 10}\n"
     ]
    }
   ],
   "source": [
    "c.add(\"SQL\")\n",
    "print(c)"
   ]
  },
  {
   "cell_type": "code",
   "execution_count": 56,
   "id": "9d3044e0",
   "metadata": {},
   "outputs": [
    {
     "name": "stdout",
     "output_type": "stream",
     "text": [
      "{'location': 'Well A', 'Start Date': '2023-09-15', 'duration': 45, 'End': True}\n"
     ]
    }
   ],
   "source": [
    "#Dictionary: uses {} brackets\n",
    "#key value pair\n",
    "d={\"location\":\"Well A\", \"Start Date\":\"2023-09-15\",\"duration\":45, \"End\":True}\n",
    "print(d)"
   ]
  },
  {
   "cell_type": "code",
   "execution_count": 58,
   "id": "82cdb527",
   "metadata": {},
   "outputs": [
    {
     "name": "stdout",
     "output_type": "stream",
     "text": [
      "{'location': 'Well B', 'Start Date': '2023-09-15', 'duration': 45, 'End': True}\n"
     ]
    }
   ],
   "source": [
    "d['location']='Well B'\n",
    "print(d)"
   ]
  },
  {
   "cell_type": "code",
   "execution_count": 60,
   "id": "56a869c9",
   "metadata": {},
   "outputs": [
    {
     "name": "stdout",
     "output_type": "stream",
     "text": [
      "Is Hydrotreating Unit installed? True\n",
      "Is Thermal Cracking Unit obsolete? True\n"
     ]
    }
   ],
   "source": [
    "# List of Equipment\n",
    "refineryEquipment = [\"Crude Distillation Unit\", \"Catalytic Cracking Unit\", \"Hydrotreating Unit\", \"FCC Unit\"]\n",
    "\n",
    " \n",
    "\n",
    "# Membership Operator\n",
    "IsUnitInstalled = \"Hydrotreating Unit\" in refineryEquipment\n",
    "IsUnitObsolete = \"Thermal Cracking Unit\" not in refineryEquipment\n",
    "\n",
    " \n",
    "\n",
    "print(\"Is Hydrotreating Unit installed?\", IsUnitInstalled)\n",
    "print(\"Is Thermal Cracking Unit obsolete?\", IsUnitObsolete)"
   ]
  },
  {
   "cell_type": "code",
   "execution_count": 62,
   "id": "5df6d415",
   "metadata": {},
   "outputs": [],
   "source": [
    "employees = [\n",
    "    \"John Doe, Senior Geologist, Geology, johndoe@email.com, 123-456-7890\",\n",
    "    \"Jane Smith, Drilling Engineer, Drilling, janesmith@email.com, 987-654-3210\",\n",
    "    \"Bob Johnson, Reservoir Engineer, Reservoir Engineering, bobjohnson@email.com, 456-789-0123\",\n",
    "    \"Alice Brown, Petrophysicist, Petrophysics, alicebrown@email.com, 789-012-3456\"\n",
    "]"
   ]
  },
  {
   "cell_type": "code",
   "execution_count": 64,
   "id": "0186b921",
   "metadata": {},
   "outputs": [
    {
     "data": {
      "text/plain": [
       "'John Doe, Senior Geologist, Geology, johndoe@email.com, 123-456-7890'"
      ]
     },
     "execution_count": 64,
     "metadata": {},
     "output_type": "execute_result"
    }
   ],
   "source": [
    "#Access and print the details of the first employee in the list.\n",
    "employees[0]"
   ]
  },
  {
   "cell_type": "code",
   "execution_count": 66,
   "id": "e833793f",
   "metadata": {},
   "outputs": [
    {
     "name": "stdout",
     "output_type": "stream",
     "text": [
      "['John Doe, Senior Geologist, Geology, johndoe@email.com, 123-456-7890', 'Jane Smith, Drilling Engineer, Drilling, janesmith@email.com, 987-654-3210', 'Bob Johnson, Reservoir Engineer, Reservoir Engineering, bobjohnson@email.com, 456-789-0123', 'Alice Brown, Petrophysicist, Petrophysics, alicebrown@email.com, 789-012-3456', 'Eva Green, Drilling Technician, Drilling, evagreen@email.com, 111-222-3333', 'Eva Green, Drilling Technician, Drilling, evagreen@email.com, 111-222-3333']\n"
     ]
    }
   ],
   "source": [
    "#Add a new employee\n",
    "new_employee = \"Eva Green, Drilling Technician, Drilling, evagreen@email.com, 111-222-3333\"\n",
    "employees.append(new_employee)\n",
    "print(employees)"
   ]
  },
  {
   "cell_type": "code",
   "execution_count": 67,
   "id": "4a277c28",
   "metadata": {},
   "outputs": [],
   "source": [
    "#Selection Statement"
   ]
  },
  {
   "cell_type": "code",
   "execution_count": 75,
   "id": "79f202f5",
   "metadata": {},
   "outputs": [
    {
     "name": "stdout",
     "output_type": "stream",
     "text": [
      "enter current fuel level12000\n"
     ]
    }
   ],
   "source": [
    "low_fuel_thresold=1000\n",
    "critical_fuel_thresold=500\n",
    "current_fuel_level=int(input(\"enter current fuel level\"))\n"
   ]
  },
  {
   "cell_type": "code",
   "execution_count": 76,
   "id": "5b48347f",
   "metadata": {},
   "outputs": [
    {
     "name": "stdout",
     "output_type": "stream",
     "text": [
      "continue fueling\n"
     ]
    }
   ],
   "source": [
    "if(current_fuel_level<critical_fuel_threshold):\n",
    "    print(\"Critical fuel level reached.Take immediate action.\")\n",
    "elif(current_fuel_level<low_fuel_threshold):\n",
    "    print(\"Send fuel low alert\")\n",
    "else:\n",
    "    print(\"continue fueling\")\n"
   ]
  },
  {
   "cell_type": "code",
   "execution_count": 78,
   "id": "996cdba7",
   "metadata": {},
   "outputs": [
    {
     "name": "stdout",
     "output_type": "stream",
     "text": [
      "[('a', 'Sales'), ('b', 'IT'), ('c', 'Finance')]\n",
      "<class 'list'>\n"
     ]
    }
   ],
   "source": [
    "l1=['a','b','c']\n",
    "l2=['Sales','IT','Finance']\n",
    "l=list(zip(l1,l2))\n",
    "print(l)\n",
    "print(type(l))"
   ]
  },
  {
   "cell_type": "code",
   "execution_count": 96,
   "id": "9b204a92",
   "metadata": {},
   "outputs": [],
   "source": [
    "oil_gas_data = [\n",
    "    (\"Field A\", \"Texas\", 500000),\n",
    "    (\"Field B\", \"Alaska\", 800000),\n",
    "    (\"Field C\", \"North Sea\", 300000),\n",
    "    (\"Field D\", \"Gulf of Mexico\", 600000),\n",
    "]\n",
    "field_name,location,reserve=zip(*oil_gas_data)# * shows length of list"
   ]
  },
  {
   "cell_type": "code",
   "execution_count": 82,
   "id": "ee4f2d0c",
   "metadata": {},
   "outputs": [
    {
     "name": "stdout",
     "output_type": "stream",
     "text": [
      "('Field A', 'Field B', 'Field C', 'Field D')\n",
      "('Texas', 'Alaska', 'North Sea', 'Gulf of Mexico')\n",
      "(500000, 800000, 300000, 600000)\n"
     ]
    }
   ],
   "source": [
    "print(field_name)\n",
    "print(location)\n",
    "print(reserve)"
   ]
  },
  {
   "cell_type": "code",
   "execution_count": 85,
   "id": "88ae57a4",
   "metadata": {},
   "outputs": [
    {
     "name": "stdout",
     "output_type": "stream",
     "text": [
      "[(0, 'Texas'), (1, 'Alaska'), (2, 'North Sea'), (3, 'Gulf of Mexico')]\n"
     ]
    }
   ],
   "source": [
    "i=list(enumerate(location))\n",
    "print(i)"
   ]
  },
  {
   "cell_type": "code",
   "execution_count": 87,
   "id": "ac94cc8e",
   "metadata": {},
   "outputs": [
    {
     "name": "stdout",
     "output_type": "stream",
     "text": [
      "[(0, 'Field A'), (1, 'Field B'), (2, 'Field C'), (3, 'Field D')]\n"
     ]
    }
   ],
   "source": [
    "z=list(enumerate(field_name))\n",
    "print(z)"
   ]
  },
  {
   "cell_type": "code",
   "execution_count": 89,
   "id": "e76c198f",
   "metadata": {},
   "outputs": [
    {
     "name": "stdout",
     "output_type": "stream",
     "text": [
      "Field 1: Field A is located in Texas with reserves of 500000 barrels.\n",
      "Field 2: Field B is located in Alaska with reserves of 800000 barrels.\n",
      "Field 3: Field C is located in North Sea with reserves of 300000 barrels.\n",
      "Field 4: Field D is located in Gulf of Mexico with reserves of 600000 barrels.\n"
     ]
    }
   ],
   "source": [
    "for index, field_data in enumerate(oil_gas_data):\n",
    "    field_name, location, reserve = field_data\n",
    "    print(f\"Field {index+1}: {field_name} is located in {location} with reserves of {reserve} barrels.\")"
   ]
  },
  {
   "cell_type": "code",
   "execution_count": 97,
   "id": "5886d792",
   "metadata": {},
   "outputs": [],
   "source": [
    "from collections import Counter\n",
    "location_count=Counter(location)"
   ]
  },
  {
   "cell_type": "code",
   "execution_count": 98,
   "id": "94f1c0a2",
   "metadata": {},
   "outputs": [
    {
     "name": "stdout",
     "output_type": "stream",
     "text": [
      "Counter({'Texas': 1, 'Alaska': 1, 'North Sea': 1, 'Gulf of Mexico': 1})\n"
     ]
    }
   ],
   "source": [
    "print(location_count)"
   ]
  },
  {
   "cell_type": "code",
   "execution_count": null,
   "id": "b66c2ab6",
   "metadata": {},
   "outputs": [],
   "source": []
  }
 ],
 "metadata": {
  "kernelspec": {
   "display_name": "Python 3 (ipykernel)",
   "language": "python",
   "name": "python3"
  },
  "language_info": {
   "codemirror_mode": {
    "name": "ipython",
    "version": 3
   },
   "file_extension": ".py",
   "mimetype": "text/x-python",
   "name": "python",
   "nbconvert_exporter": "python",
   "pygments_lexer": "ipython3",
   "version": "3.11.4"
  }
 },
 "nbformat": 4,
 "nbformat_minor": 5
}
