{
 "cells": [
  {
   "cell_type": "code",
   "execution_count": 2,
   "id": "7e65ad2c",
   "metadata": {},
   "outputs": [],
   "source": [
    "import findspark\n",
    "findspark.init()\n",
    "from pyspark.sql import SparkSession\n",
    "spark=SparkSession.builder.appName(\"RDDExample\").getOrCreate()\n"
   ]
  },
  {
   "cell_type": "code",
   "execution_count": 5,
   "id": "501fd3dc",
   "metadata": {},
   "outputs": [],
   "source": [
    "df=spark.read.json(\"constructors.json\")"
   ]
  },
  {
   "cell_type": "code",
   "execution_count": 7,
   "id": "a5f3e517",
   "metadata": {},
   "outputs": [
    {
     "name": "stdout",
     "output_type": "stream",
     "text": [
      "+-------------+--------------+-----------+-----------+--------------------+\n",
      "|constructorId|constructorRef|       name|nationality|                 url|\n",
      "+-------------+--------------+-----------+-----------+--------------------+\n",
      "|            1|       mclaren|    McLaren|    British|http://en.wikiped...|\n",
      "|            2|    bmw_sauber| BMW Sauber|     German|http://en.wikiped...|\n",
      "|            3|      williams|   Williams|    British|http://en.wikiped...|\n",
      "|            4|       renault|    Renault|     French|http://en.wikiped...|\n",
      "|            5|    toro_rosso| Toro Rosso|    Italian|http://en.wikiped...|\n",
      "|            6|       ferrari|    Ferrari|    Italian|http://en.wikiped...|\n",
      "|            7|        toyota|     Toyota|   Japanese|http://en.wikiped...|\n",
      "|            8|   super_aguri|Super Aguri|   Japanese|http://en.wikiped...|\n",
      "|            9|      red_bull|   Red Bull|   Austrian|http://en.wikiped...|\n",
      "|           10|   force_india|Force India|     Indian|http://en.wikiped...|\n",
      "|           11|         honda|      Honda|   Japanese|http://en.wikiped...|\n",
      "|           12|        spyker|     Spyker|      Dutch|http://en.wikiped...|\n",
      "|           13|           mf1|        MF1|    Russian|http://en.wikiped...|\n",
      "|           14|    spyker_mf1| Spyker MF1|      Dutch|http://en.wikiped...|\n",
      "|           15|        sauber|     Sauber|      Swiss|http://en.wikiped...|\n",
      "|           16|           bar|        BAR|    British|http://en.wikiped...|\n",
      "|           17|        jordan|     Jordan|      Irish|http://en.wikiped...|\n",
      "|           18|       minardi|    Minardi|    Italian|http://en.wikiped...|\n",
      "|           19|        jaguar|     Jaguar|    British|http://en.wikiped...|\n",
      "|           20|         prost|      Prost|     French|http://en.wikiped...|\n",
      "+-------------+--------------+-----------+-----------+--------------------+\n",
      "only showing top 20 rows\n",
      "\n"
     ]
    }
   ],
   "source": [
    "df.show()"
   ]
  },
  {
   "cell_type": "code",
   "execution_count": 22,
   "id": "efe86d16",
   "metadata": {},
   "outputs": [],
   "source": [
    "input_file_name='/home/labuser/Desktop/Saakshi PySpark/Untitled Folder/constructors.json'\n",
    "from pyspark.sql.functions import *\n",
    "df=df.withColumn(\"Ingestion Date\",current_timestamp()).withColumn(\"path\",input_file_name()).drop('url')"
   ]
  },
  {
   "cell_type": "code",
   "execution_count": 23,
   "id": "354c9d75",
   "metadata": {},
   "outputs": [
    {
     "name": "stdout",
     "output_type": "stream",
     "text": [
      "+-------------+--------------+-----------+-----------+--------------------+--------------------+\n",
      "|constructorId|constructorRef|       name|nationality|      Ingestion Date|                path|\n",
      "+-------------+--------------+-----------+-----------+--------------------+--------------------+\n",
      "|            1|       mclaren|    McLaren|    British|2023-09-22 06:02:...|file:///home/labu...|\n",
      "|            2|    bmw_sauber| BMW Sauber|     German|2023-09-22 06:02:...|file:///home/labu...|\n",
      "|            3|      williams|   Williams|    British|2023-09-22 06:02:...|file:///home/labu...|\n",
      "|            4|       renault|    Renault|     French|2023-09-22 06:02:...|file:///home/labu...|\n",
      "|            5|    toro_rosso| Toro Rosso|    Italian|2023-09-22 06:02:...|file:///home/labu...|\n",
      "|            6|       ferrari|    Ferrari|    Italian|2023-09-22 06:02:...|file:///home/labu...|\n",
      "|            7|        toyota|     Toyota|   Japanese|2023-09-22 06:02:...|file:///home/labu...|\n",
      "|            8|   super_aguri|Super Aguri|   Japanese|2023-09-22 06:02:...|file:///home/labu...|\n",
      "|            9|      red_bull|   Red Bull|   Austrian|2023-09-22 06:02:...|file:///home/labu...|\n",
      "|           10|   force_india|Force India|     Indian|2023-09-22 06:02:...|file:///home/labu...|\n",
      "|           11|         honda|      Honda|   Japanese|2023-09-22 06:02:...|file:///home/labu...|\n",
      "|           12|        spyker|     Spyker|      Dutch|2023-09-22 06:02:...|file:///home/labu...|\n",
      "|           13|           mf1|        MF1|    Russian|2023-09-22 06:02:...|file:///home/labu...|\n",
      "|           14|    spyker_mf1| Spyker MF1|      Dutch|2023-09-22 06:02:...|file:///home/labu...|\n",
      "|           15|        sauber|     Sauber|      Swiss|2023-09-22 06:02:...|file:///home/labu...|\n",
      "|           16|           bar|        BAR|    British|2023-09-22 06:02:...|file:///home/labu...|\n",
      "|           17|        jordan|     Jordan|      Irish|2023-09-22 06:02:...|file:///home/labu...|\n",
      "|           18|       minardi|    Minardi|    Italian|2023-09-22 06:02:...|file:///home/labu...|\n",
      "|           19|        jaguar|     Jaguar|    British|2023-09-22 06:02:...|file:///home/labu...|\n",
      "|           20|         prost|      Prost|     French|2023-09-22 06:02:...|file:///home/labu...|\n",
      "+-------------+--------------+-----------+-----------+--------------------+--------------------+\n",
      "only showing top 20 rows\n",
      "\n"
     ]
    }
   ],
   "source": [
    "df.show()"
   ]
  },
  {
   "cell_type": "code",
   "execution_count": 15,
   "id": "b42755e4",
   "metadata": {},
   "outputs": [
    {
     "name": "stderr",
     "output_type": "stream",
     "text": [
      "                                                                                \r"
     ]
    }
   ],
   "source": [
    "#to save as file\n",
    "df.write.parquet(\"processed_data/constructor_parquet\")"
   ]
  },
  {
   "cell_type": "code",
   "execution_count": 18,
   "id": "34002a14",
   "metadata": {},
   "outputs": [],
   "source": [
    "#in case you make changes after writing, then you want to resave it under same name, do as below:\n",
    "#df.write.mode(\"overwrite\").parquet(\"processed_data/constructor_parquet\")"
   ]
  },
  {
   "cell_type": "code",
   "execution_count": 24,
   "id": "3d03b706",
   "metadata": {},
   "outputs": [],
   "source": [
    "#to save as table\n",
    "df.write.mode(\"overwrite\").saveAsTable(\"constructor\")"
   ]
  },
  {
   "cell_type": "code",
   "execution_count": 25,
   "id": "b6abe036",
   "metadata": {},
   "outputs": [
    {
     "name": "stdout",
     "output_type": "stream",
     "text": [
      "+-------------+--------------+-----------+-----------+--------------------+--------------------+\n",
      "|constructorId|constructorRef|       name|nationality|      Ingestion Date|                path|\n",
      "+-------------+--------------+-----------+-----------+--------------------+--------------------+\n",
      "|            1|       mclaren|    McLaren|    British|2023-09-22 06:03:...|file:///home/labu...|\n",
      "|            2|    bmw_sauber| BMW Sauber|     German|2023-09-22 06:03:...|file:///home/labu...|\n",
      "|            3|      williams|   Williams|    British|2023-09-22 06:03:...|file:///home/labu...|\n",
      "|            4|       renault|    Renault|     French|2023-09-22 06:03:...|file:///home/labu...|\n",
      "|            5|    toro_rosso| Toro Rosso|    Italian|2023-09-22 06:03:...|file:///home/labu...|\n",
      "|            6|       ferrari|    Ferrari|    Italian|2023-09-22 06:03:...|file:///home/labu...|\n",
      "|            7|        toyota|     Toyota|   Japanese|2023-09-22 06:03:...|file:///home/labu...|\n",
      "|            8|   super_aguri|Super Aguri|   Japanese|2023-09-22 06:03:...|file:///home/labu...|\n",
      "|            9|      red_bull|   Red Bull|   Austrian|2023-09-22 06:03:...|file:///home/labu...|\n",
      "|           10|   force_india|Force India|     Indian|2023-09-22 06:03:...|file:///home/labu...|\n",
      "|           11|         honda|      Honda|   Japanese|2023-09-22 06:03:...|file:///home/labu...|\n",
      "|           12|        spyker|     Spyker|      Dutch|2023-09-22 06:03:...|file:///home/labu...|\n",
      "|           13|           mf1|        MF1|    Russian|2023-09-22 06:03:...|file:///home/labu...|\n",
      "|           14|    spyker_mf1| Spyker MF1|      Dutch|2023-09-22 06:03:...|file:///home/labu...|\n",
      "|           15|        sauber|     Sauber|      Swiss|2023-09-22 06:03:...|file:///home/labu...|\n",
      "|           16|           bar|        BAR|    British|2023-09-22 06:03:...|file:///home/labu...|\n",
      "|           17|        jordan|     Jordan|      Irish|2023-09-22 06:03:...|file:///home/labu...|\n",
      "|           18|       minardi|    Minardi|    Italian|2023-09-22 06:03:...|file:///home/labu...|\n",
      "|           19|        jaguar|     Jaguar|    British|2023-09-22 06:03:...|file:///home/labu...|\n",
      "|           20|         prost|      Prost|     French|2023-09-22 06:03:...|file:///home/labu...|\n",
      "+-------------+--------------+-----------+-----------+--------------------+--------------------+\n",
      "only showing top 20 rows\n",
      "\n"
     ]
    }
   ],
   "source": [
    "spark.sql(\"select * from constructor\").show()"
   ]
  },
  {
   "cell_type": "code",
   "execution_count": 27,
   "id": "765e980e",
   "metadata": {},
   "outputs": [],
   "source": [
    "df.write.mode(\"overwrite\").option(\"path\",\"/home/labuser/Desktop/Saakshi PySpark/Untitled Folder/processed_data\").saveAsTable(\"constructor_table\")"
   ]
  }
 ],
 "metadata": {
  "kernelspec": {
   "display_name": "Python 3 (ipykernel)",
   "language": "python",
   "name": "python3"
  },
  "language_info": {
   "codemirror_mode": {
    "name": "ipython",
    "version": 3
   },
   "file_extension": ".py",
   "mimetype": "text/x-python",
   "name": "python",
   "nbconvert_exporter": "python",
   "pygments_lexer": "ipython3",
   "version": "3.11.4"
  }
 },
 "nbformat": 4,
 "nbformat_minor": 5
}
