{
 "cells": [
  {
   "cell_type": "markdown",
   "metadata": {
    "application/vnd.databricks.v1+cell": {
     "cellMetadata": {},
     "inputWidgets": {},
     "nuid": "e9b813c6-2f02-4aba-a31c-17052a7e11c0",
     "showTitle": false,
     "title": ""
    }
   },
   "source": [
    "A function that calls itself is a recursive function"
   ]
  },
  {
   "cell_type": "code",
   "execution_count": 0,
   "metadata": {
    "application/vnd.databricks.v1+cell": {
     "cellMetadata": {},
     "inputWidgets": {},
     "nuid": "7ab4c400-70b5-44ba-a645-89fce729e063",
     "showTitle": false,
     "title": ""
    }
   },
   "outputs": [],
   "source": [
    "def factorial(n):\n",
    "    if(n==0):\n",
    "        return 1\n",
    "    else:\n",
    "        return n*factorial(n-1)"
   ]
  },
  {
   "cell_type": "code",
   "execution_count": 0,
   "metadata": {
    "application/vnd.databricks.v1+cell": {
     "cellMetadata": {},
     "inputWidgets": {},
     "nuid": "6968944f-6a7f-4c10-af35-bc632cbf2237",
     "showTitle": false,
     "title": ""
    }
   },
   "outputs": [],
   "source": [
    "factorial(6)"
   ]
  },
  {
   "cell_type": "code",
   "execution_count": 0,
   "metadata": {
    "application/vnd.databricks.v1+cell": {
     "cellMetadata": {},
     "inputWidgets": {},
     "nuid": "38fad760-d146-4d38-9159-570488b71b09",
     "showTitle": false,
     "title": ""
    }
   },
   "outputs": [],
   "source": [
    "def fibonacci(n):\n",
    "    if n<=1:\n",
    "        return n\n",
    "    else:\n",
    "        return fibonacci(n-1)+fibonacci(n-2)\n",
    "result=fibonacci(7)\n",
    "print(result)"
   ]
  },
  {
   "cell_type": "code",
   "execution_count": 0,
   "metadata": {
    "application/vnd.databricks.v1+cell": {
     "cellMetadata": {},
     "inputWidgets": {},
     "nuid": "f5119bbd-8e02-4943-b578-4193d56c4250",
     "showTitle": false,
     "title": ""
    }
   },
   "outputs": [],
   "source": [
    "#Decorator Function\n",
    "def div(a,b):\n",
    "    c=a/b\n",
    "    return c"
   ]
  },
  {
   "cell_type": "code",
   "execution_count": 0,
   "metadata": {
    "application/vnd.databricks.v1+cell": {
     "cellMetadata": {},
     "inputWidgets": {},
     "nuid": "27f66e0f-b8ce-4ed9-8627-73a05a4d52d4",
     "showTitle": false,
     "title": ""
    }
   },
   "outputs": [],
   "source": [
    "div(10,5)"
   ]
  },
  {
   "cell_type": "code",
   "execution_count": 0,
   "metadata": {
    "application/vnd.databricks.v1+cell": {
     "cellMetadata": {},
     "inputWidgets": {},
     "nuid": "61b3f2d8-3d12-4727-90e1-c0e4fa16b895",
     "showTitle": false,
     "title": ""
    }
   },
   "outputs": [],
   "source": [
    "def div1(a,b):\n",
    "    if(a<b):\n",
    "        a,b=b,a\n",
    "    c=a/b\n",
    "    return c"
   ]
  },
  {
   "cell_type": "code",
   "execution_count": 0,
   "metadata": {
    "application/vnd.databricks.v1+cell": {
     "cellMetadata": {},
     "inputWidgets": {},
     "nuid": "ff657c1a-8698-4105-b24f-a0dff34e1455",
     "showTitle": false,
     "title": ""
    }
   },
   "outputs": [],
   "source": [
    "div1(2,10)"
   ]
  },
  {
   "cell_type": "code",
   "execution_count": 0,
   "metadata": {
    "application/vnd.databricks.v1+cell": {
     "cellMetadata": {},
     "inputWidgets": {},
     "nuid": "4a2335e5-5c07-4f72-a594-b2c0a885880f",
     "showTitle": false,
     "title": ""
    }
   },
   "outputs": [],
   "source": [
    "def og_div(a,b):\n",
    "    c=a/b\n",
    "    return c"
   ]
  },
  {
   "cell_type": "code",
   "execution_count": 0,
   "metadata": {
    "application/vnd.databricks.v1+cell": {
     "cellMetadata": {},
     "inputWidgets": {},
     "nuid": "ba2ba55a-130f-47b6-aeb6-5b5938580c5f",
     "showTitle": false,
     "title": ""
    }
   },
   "outputs": [],
   "source": [
    "def smart_div(func): #decorator function definition\n",
    "    def inner(a,b):\n",
    "        if a<b:\n",
    "            a,b=b,a\n",
    "        return func(a,b)\n",
    "    return(inner)"
   ]
  },
  {
   "cell_type": "code",
   "execution_count": 0,
   "metadata": {
    "application/vnd.databricks.v1+cell": {
     "cellMetadata": {},
     "inputWidgets": {},
     "nuid": "ee8e0875-4786-492b-b967-095ae91b7d08",
     "showTitle": false,
     "title": ""
    }
   },
   "outputs": [],
   "source": [
    "result=smart_div(og_div) #assigning name \"result\" to decorator function"
   ]
  },
  {
   "cell_type": "code",
   "execution_count": 0,
   "metadata": {
    "application/vnd.databricks.v1+cell": {
     "cellMetadata": {},
     "inputWidgets": {},
     "nuid": "ce7f80bd-e97b-4811-b8fe-e9fc6acbc3f0",
     "showTitle": false,
     "title": ""
    }
   },
   "outputs": [],
   "source": [
    "result(10,5)"
   ]
  },
  {
   "cell_type": "code",
   "execution_count": 0,
   "metadata": {
    "application/vnd.databricks.v1+cell": {
     "cellMetadata": {},
     "inputWidgets": {},
     "nuid": "e8cad321-7606-4bde-8dfa-3b66af92d864",
     "showTitle": false,
     "title": ""
    }
   },
   "outputs": [],
   "source": [
    "result(2,6)"
   ]
  },
  {
   "cell_type": "code",
   "execution_count": 0,
   "metadata": {
    "application/vnd.databricks.v1+cell": {
     "cellMetadata": {},
     "inputWidgets": {},
     "nuid": "152f766a-9e16-4ff2-a74d-4c9c1e1bbf0f",
     "showTitle": false,
     "title": ""
    }
   },
   "outputs": [],
   "source": [
    "def wish(name):\n",
    "    print(\"Hello\",name,\"Good Morning\")"
   ]
  },
  {
   "cell_type": "code",
   "execution_count": 0,
   "metadata": {
    "application/vnd.databricks.v1+cell": {
     "cellMetadata": {},
     "inputWidgets": {},
     "nuid": "2ec22d8e-922b-4797-9b96-0cf2c0811598",
     "showTitle": false,
     "title": ""
    }
   },
   "outputs": [],
   "source": [
    "wish(\"John\")"
   ]
  },
  {
   "cell_type": "code",
   "execution_count": 0,
   "metadata": {
    "application/vnd.databricks.v1+cell": {
     "cellMetadata": {},
     "inputWidgets": {},
     "nuid": "69bd13c2-bd8d-4677-9627-8ddaff7a1a4b",
     "showTitle": false,
     "title": ""
    }
   },
   "outputs": [],
   "source": [
    "def smart_wish(func):\n",
    "    def inner(name):\n",
    "        if name==\"Robert\":\n",
    "            print(\"Hello\",name,\"Good Afternon\")\n",
    "        else:\n",
    "            wish(name)\n",
    "        \n",
    "    return(inner)\n",
    "\n",
    "#alternate method to use instead of assigning result the function\n",
    "#@smart_wish\n",
    "#def wish(name):\n",
    "#  print(\"Hello\",name,\"Good morning\")"
   ]
  },
  {
   "cell_type": "code",
   "execution_count": 0,
   "metadata": {
    "application/vnd.databricks.v1+cell": {
     "cellMetadata": {},
     "inputWidgets": {},
     "nuid": "9f1c51a9-ff14-44b9-b34a-eb3df28c54a3",
     "showTitle": false,
     "title": ""
    }
   },
   "outputs": [],
   "source": [
    "result1=smart_wish(wish)"
   ]
  },
  {
   "cell_type": "code",
   "execution_count": 0,
   "metadata": {
    "application/vnd.databricks.v1+cell": {
     "cellMetadata": {},
     "inputWidgets": {},
     "nuid": "59c8df99-213a-4516-bd36-b4b0e3614b20",
     "showTitle": false,
     "title": ""
    }
   },
   "outputs": [],
   "source": [
    "result1(\"Robert\")\n",
    "result1(\"Saakshi\")"
   ]
  },
  {
   "cell_type": "code",
   "execution_count": 0,
   "metadata": {
    "application/vnd.databricks.v1+cell": {
     "cellMetadata": {},
     "inputWidgets": {},
     "nuid": "e47f0d2a-e46c-412c-99b8-26ad09818361",
     "showTitle": false,
     "title": ""
    }
   },
   "outputs": [],
   "source": [
    "#Generator Function uses the yield keyword to give a sequence of values one at a time \n",
    "#instead of returning all at once\n",
    "\n",
    "def count_up_to(n):\n",
    "    i=1\n",
    "    while(i<=n):\n",
    "        yield i\n",
    "        i=i+1"
   ]
  },
  {
   "cell_type": "code",
   "execution_count": 0,
   "metadata": {
    "application/vnd.databricks.v1+cell": {
     "cellMetadata": {},
     "inputWidgets": {},
     "nuid": "d574479f-a829-4912-bc67-a70c415c4d72",
     "showTitle": false,
     "title": ""
    }
   },
   "outputs": [],
   "source": [
    "for i in count_up_to(10):\n",
    "    print(i)"
   ]
  },
  {
   "cell_type": "code",
   "execution_count": 0,
   "metadata": {
    "application/vnd.databricks.v1+cell": {
     "cellMetadata": {},
     "inputWidgets": {},
     "nuid": "e3a33b64-0dea-4972-ba48-d3a8bb6d8c4c",
     "showTitle": false,
     "title": ""
    }
   },
   "outputs": [],
   "source": [
    "#Task: Generate Fibonacci series using generator function\n",
    "def fibonacci1(n):\n",
    "    a,b=0,1\n",
    "    while True:\n",
    "        yield a\n",
    "        a,b=b,a+b"
   ]
  },
  {
   "cell_type": "code",
   "execution_count": 0,
   "metadata": {
    "application/vnd.databricks.v1+cell": {
     "cellMetadata": {},
     "inputWidgets": {},
     "nuid": "b8c07893-9773-4a59-bde2-d77950c288f6",
     "showTitle": false,
     "title": ""
    }
   },
   "outputs": [],
   "source": [
    "for i in fibonacci1(7):\n",
    "    print(i)"
   ]
  },
  {
   "cell_type": "markdown",
   "metadata": {
    "application/vnd.databricks.v1+cell": {
     "cellMetadata": {},
     "inputWidgets": {},
     "nuid": "587770ef-0f78-4018-8117-feee24f30ecd",
     "showTitle": false,
     "title": ""
    }
   },
   "source": [
    "Task: Logging Decorator\n",
    "\n",
    " \n",
    "\n",
    "You are tasked with creating a decorator function called log_function_call that logs when a function is called, along with its arguments, and the result of the function call. You will apply this decorator to two functions.\n",
    "\n",
    " \n",
    "\n",
    "Implement a decorator function called log_function_call that takes a function as an argument and wraps it. Inside the decorator, log the function's name, its arguments, and the result of the function call. You can use the logging module for logging.\n",
    "\n",
    " \n",
    "\n",
    "Create two functions:\n",
    "\n",
    " \n",
    "\n",
    "add(a, b): This function takes two integers, a and b, as arguments and returns their sum.\n",
    "multiply(a, b): This function takes two integers, a and b, as arguments and returns their product.\n",
    "Apply the log_function_call decorator to both the add and multiply functions.\n",
    "\n",
    " \n",
    "\n",
    "Call the decorated add and multiply functions with different arguments to verify that the decorator logs the function calls and results correctly."
   ]
  },
  {
   "cell_type": "markdown",
   "metadata": {
    "application/vnd.databricks.v1+cell": {
     "cellMetadata": {},
     "inputWidgets": {},
     "nuid": "ca8812c2-68d5-4ab7-8ba6-ee39dc316d6f",
     "showTitle": false,
     "title": ""
    }
   },
   "source": [
    "List comprehension\n",
    "list=[expression for items in list if condition]"
   ]
  },
  {
   "cell_type": "code",
   "execution_count": 0,
   "metadata": {
    "application/vnd.databricks.v1+cell": {
     "cellMetadata": {},
     "inputWidgets": {},
     "nuid": "ba35234d-b3b6-48b2-bfbb-98c010479dfa",
     "showTitle": false,
     "title": ""
    }
   },
   "outputs": [],
   "source": [
    "nos=[1,2,3,4,5]\n",
    "square=[x**2 for x in nos]\n",
    "square"
   ]
  },
  {
   "cell_type": "code",
   "execution_count": 0,
   "metadata": {
    "application/vnd.databricks.v1+cell": {
     "cellMetadata": {},
     "inputWidgets": {},
     "nuid": "75197591-31ec-4e69-87eb-5458fb809c1b",
     "showTitle": false,
     "title": ""
    }
   },
   "outputs": [],
   "source": [
    "prod=[1,2,3,4,5,6,7,8]\n",
    "even=[e for e in prod if (e%2==0)]\n",
    "even"
   ]
  },
  {
   "cell_type": "code",
   "execution_count": 0,
   "metadata": {
    "application/vnd.databricks.v1+cell": {
     "cellMetadata": {},
     "inputWidgets": {},
     "nuid": "5a4a52f6-1b81-407d-8db6-7795fc39189f",
     "showTitle": false,
     "title": ""
    }
   },
   "outputs": [],
   "source": [
    "nos=[x*2 for x in range(5)]\n",
    "nos"
   ]
  },
  {
   "cell_type": "code",
   "execution_count": 0,
   "metadata": {
    "application/vnd.databricks.v1+cell": {
     "cellMetadata": {},
     "inputWidgets": {},
     "nuid": "5c4ed603-c721-4688-9637-d40d4915b2a2",
     "showTitle": false,
     "title": ""
    }
   },
   "outputs": [],
   "source": [
    "list1=[\"Python\",\"SQL\",\"Azure\",\"Power BI\"]\n",
    "\n"
   ]
  },
  {
   "cell_type": "code",
   "execution_count": 0,
   "metadata": {
    "application/vnd.databricks.v1+cell": {
     "cellMetadata": {},
     "inputWidgets": {},
     "nuid": "000efeb9-814a-4f5b-bd9d-40f4a4a756c3",
     "showTitle": false,
     "title": ""
    }
   },
   "outputs": [],
   "source": [
    "l=[i[0] for i in list1]\n"
   ]
  },
  {
   "cell_type": "code",
   "execution_count": 0,
   "metadata": {
    "application/vnd.databricks.v1+cell": {
     "cellMetadata": {},
     "inputWidgets": {},
     "nuid": "dd3e01fe-d1a6-4397-bf7d-24117fa61703",
     "showTitle": false,
     "title": ""
    }
   },
   "outputs": [],
   "source": [
    "print(l)"
   ]
  },
  {
   "cell_type": "code",
   "execution_count": 0,
   "metadata": {
    "application/vnd.databricks.v1+cell": {
     "cellMetadata": {},
     "inputWidgets": {},
     "nuid": "d41558fa-384d-47c5-ba4c-ca9e918bc528",
     "showTitle": false,
     "title": ""
    }
   },
   "outputs": [],
   "source": [
    "list1=[\"python\",\"sQL\",\"azure\",\"power BI\",\"databricks\"]"
   ]
  },
  {
   "cell_type": "code",
   "execution_count": 0,
   "metadata": {
    "application/vnd.databricks.v1+cell": {
     "cellMetadata": {},
     "inputWidgets": {},
     "nuid": "bfaf2335-d896-4050-ac5f-176c33b08d26",
     "showTitle": false,
     "title": ""
    }
   },
   "outputs": [],
   "source": [
    "l=[i[0].upper()+i[1:] for i in list1]"
   ]
  },
  {
   "cell_type": "code",
   "execution_count": 0,
   "metadata": {
    "application/vnd.databricks.v1+cell": {
     "cellMetadata": {},
     "inputWidgets": {},
     "nuid": "924620fc-1d30-4f8f-994f-b36f3890662b",
     "showTitle": false,
     "title": ""
    }
   },
   "outputs": [],
   "source": [
    "print(l)"
   ]
  },
  {
   "cell_type": "code",
   "execution_count": 0,
   "metadata": {
    "application/vnd.databricks.v1+cell": {
     "cellMetadata": {},
     "inputWidgets": {},
     "nuid": "0bdea4c0-27c9-476a-b332-6cd0606c8b95",
     "showTitle": false,
     "title": ""
    }
   },
   "outputs": [],
   "source": [
    "words=\"the quick brown fox jumps over the lazy dog\""
   ]
  },
  {
   "cell_type": "code",
   "execution_count": 0,
   "metadata": {
    "application/vnd.databricks.v1+cell": {
     "cellMetadata": {},
     "inputWidgets": {},
     "nuid": "da7a7064-d61d-4241-94ce-f0486e3171ba",
     "showTitle": false,
     "title": ""
    }
   },
   "outputs": [],
   "source": [
    "list2=[[s.upper(),len(s)] for s in words.split()]"
   ]
  },
  {
   "cell_type": "code",
   "execution_count": 0,
   "metadata": {
    "application/vnd.databricks.v1+cell": {
     "cellMetadata": {},
     "inputWidgets": {},
     "nuid": "d9898e90-0b85-4612-b572-ec3889dc0a8b",
     "showTitle": false,
     "title": ""
    }
   },
   "outputs": [],
   "source": [
    "print(list2)"
   ]
  },
  {
   "cell_type": "markdown",
   "metadata": {
    "application/vnd.databricks.v1+cell": {
     "cellMetadata": {},
     "inputWidgets": {},
     "nuid": "951f164c-0e7d-460d-bace-3f98f6723278",
     "showTitle": false,
     "title": ""
    }
   },
   "source": [
    "Lambda function(aka Anonymous function):\n",
    "it has no name for the function"
   ]
  },
  {
   "cell_type": "markdown",
   "metadata": {
    "application/vnd.databricks.v1+cell": {
     "cellMetadata": {},
     "inputWidgets": {},
     "nuid": "5eec5788-2db9-41ef-bee3-202025f4970e",
     "showTitle": false,
     "title": ""
    }
   },
   "source": [
    "lambda i:i*i"
   ]
  },
  {
   "cell_type": "code",
   "execution_count": 0,
   "metadata": {
    "application/vnd.databricks.v1+cell": {
     "cellMetadata": {},
     "inputWidgets": {},
     "nuid": "4199193c-0d5f-45f4-97a3-349d792ba16f",
     "showTitle": false,
     "title": ""
    }
   },
   "outputs": [],
   "source": [
    "f=lambda i:i*i\n",
    "f(3)"
   ]
  },
  {
   "cell_type": "code",
   "execution_count": 0,
   "metadata": {
    "application/vnd.databricks.v1+cell": {
     "cellMetadata": {},
     "inputWidgets": {},
     "nuid": "07fd57f2-2b82-436b-b74c-1d7e017969bb",
     "showTitle": false,
     "title": ""
    }
   },
   "outputs": [],
   "source": [
    "fn=lambda a,b:a+b\n",
    "fn(2,6)"
   ]
  },
  {
   "cell_type": "code",
   "execution_count": 0,
   "metadata": {
    "application/vnd.databricks.v1+cell": {
     "cellMetadata": {},
     "inputWidgets": {},
     "nuid": "d999aba7-ff3f-4de5-839f-d4bd45996e37",
     "showTitle": false,
     "title": ""
    }
   },
   "outputs": [],
   "source": [
    "#finding largest number btwn 2 numbers using lambda function\n",
    "z=lambda a,b:a if a>b else b #IMPORTANT\n",
    "z(12,9)"
   ]
  },
  {
   "cell_type": "markdown",
   "metadata": {
    "application/vnd.databricks.v1+cell": {
     "cellMetadata": {},
     "inputWidgets": {},
     "nuid": "e7d4b59d-b44f-4ee0-bcc1-acf178e990fc",
     "showTitle": false,
     "title": ""
    }
   },
   "source": [
    "Filter, Map, Reduce can be used with lambda functions"
   ]
  },
  {
   "cell_type": "code",
   "execution_count": 0,
   "metadata": {
    "application/vnd.databricks.v1+cell": {
     "cellMetadata": {},
     "inputWidgets": {},
     "nuid": "3bc28f9d-5dc1-468a-b9b1-4821f6670b4e",
     "showTitle": false,
     "title": ""
    }
   },
   "outputs": [],
   "source": [
    "def evenodd(x):\n",
    "    if x%2==0:\n",
    "        return True\n",
    "    else:\n",
    "        return False"
   ]
  },
  {
   "cell_type": "code",
   "execution_count": 0,
   "metadata": {
    "application/vnd.databricks.v1+cell": {
     "cellMetadata": {},
     "inputWidgets": {},
     "nuid": "67ed9807-56f0-4528-a62e-228a2bffe02c",
     "showTitle": false,
     "title": ""
    }
   },
   "outputs": [],
   "source": [
    "evenodd(15)"
   ]
  },
  {
   "cell_type": "code",
   "execution_count": 0,
   "metadata": {
    "application/vnd.databricks.v1+cell": {
     "cellMetadata": {},
     "inputWidgets": {},
     "nuid": "5e8be28f-b00e-490c-824e-641a8fa945b1",
     "showTitle": false,
     "title": ""
    }
   },
   "outputs": [],
   "source": [
    "#Filter\n",
    "l=[0,2,3,4,5,6,8]\n",
    "l=list(filter(evenodd,l))"
   ]
  },
  {
   "cell_type": "code",
   "execution_count": 0,
   "metadata": {
    "application/vnd.databricks.v1+cell": {
     "cellMetadata": {},
     "inputWidgets": {},
     "nuid": "23435d1a-a512-4f78-b56e-888beef5d9b2",
     "showTitle": false,
     "title": ""
    }
   },
   "outputs": [],
   "source": [
    "print(l)"
   ]
  },
  {
   "cell_type": "code",
   "execution_count": 0,
   "metadata": {
    "application/vnd.databricks.v1+cell": {
     "cellMetadata": {},
     "inputWidgets": {},
     "nuid": "c3d8f1a8-87e5-4204-a36a-80448abfa9c3",
     "showTitle": false,
     "title": ""
    }
   },
   "outputs": [],
   "source": [
    "y=list(filter(lambda i:i%2==0,l))\n",
    "print(y)"
   ]
  },
  {
   "cell_type": "code",
   "execution_count": 0,
   "metadata": {
    "application/vnd.databricks.v1+cell": {
     "cellMetadata": {},
     "inputWidgets": {},
     "nuid": "9b023ca2-055c-4f0f-a94f-6e81991dd31e",
     "showTitle": false,
     "title": ""
    }
   },
   "outputs": [],
   "source": [
    "#Map\n",
    "def squareit(n):\n",
    "    return n**2"
   ]
  },
  {
   "cell_type": "code",
   "execution_count": 0,
   "metadata": {
    "application/vnd.databricks.v1+cell": {
     "cellMetadata": {},
     "inputWidgets": {},
     "nuid": "3459ba00-5746-447d-8327-4680027bd2d3",
     "showTitle": false,
     "title": ""
    }
   },
   "outputs": [],
   "source": [
    "l=[10,11,12,14,15]"
   ]
  },
  {
   "cell_type": "code",
   "execution_count": 0,
   "metadata": {
    "application/vnd.databricks.v1+cell": {
     "cellMetadata": {},
     "inputWidgets": {},
     "nuid": "cd1eca4d-72e7-48b0-a8d6-f7d3ec88342b",
     "showTitle": false,
     "title": ""
    }
   },
   "outputs": [],
   "source": [
    "sq=list(map(squareit,l))"
   ]
  },
  {
   "cell_type": "code",
   "execution_count": 0,
   "metadata": {
    "application/vnd.databricks.v1+cell": {
     "cellMetadata": {},
     "inputWidgets": {},
     "nuid": "ace674a3-c9c2-4661-9d3c-2a1614464399",
     "showTitle": false,
     "title": ""
    }
   },
   "outputs": [],
   "source": [
    "print(sq)"
   ]
  },
  {
   "cell_type": "code",
   "execution_count": 0,
   "metadata": {
    "application/vnd.databricks.v1+cell": {
     "cellMetadata": {},
     "inputWidgets": {},
     "nuid": "02916f63-5800-4bbf-af55-c81a55109c2a",
     "showTitle": false,
     "title": ""
    }
   },
   "outputs": [],
   "source": [
    "w=list(map(lambda i:i*i,l))"
   ]
  },
  {
   "cell_type": "code",
   "execution_count": 0,
   "metadata": {
    "application/vnd.databricks.v1+cell": {
     "cellMetadata": {},
     "inputWidgets": {},
     "nuid": "608e1ae9-457e-485f-8e3e-9595ab748f82",
     "showTitle": false,
     "title": ""
    }
   },
   "outputs": [],
   "source": [
    "print(w)"
   ]
  },
  {
   "cell_type": "code",
   "execution_count": 0,
   "metadata": {
    "application/vnd.databricks.v1+cell": {
     "cellMetadata": {},
     "inputWidgets": {},
     "nuid": "592e1ae0-c1f8-4d68-8bee-06eec90aaf5a",
     "showTitle": false,
     "title": ""
    }
   },
   "outputs": [],
   "source": [
    "words=[\"hello\",\"world\",\"lambda\",\"exercise\"] #convert to uppercase using lambda"
   ]
  },
  {
   "cell_type": "code",
   "execution_count": 0,
   "metadata": {
    "application/vnd.databricks.v1+cell": {
     "cellMetadata": {},
     "inputWidgets": {},
     "nuid": "ca877b97-f909-42d1-aad5-99e7f2738c20",
     "showTitle": false,
     "title": ""
    }
   },
   "outputs": [],
   "source": [
    "u=list(map((lambda i:i.upper()),words))"
   ]
  },
  {
   "cell_type": "code",
   "execution_count": 0,
   "metadata": {
    "application/vnd.databricks.v1+cell": {
     "cellMetadata": {},
     "inputWidgets": {},
     "nuid": "e0b34898-2d7f-434b-91fe-a3283eacacef",
     "showTitle": false,
     "title": ""
    }
   },
   "outputs": [],
   "source": [
    "print(u)"
   ]
  },
  {
   "cell_type": "code",
   "execution_count": 0,
   "metadata": {
    "application/vnd.databricks.v1+cell": {
     "cellMetadata": {},
     "inputWidgets": {},
     "nuid": "330b1484-3bb5-4123-b831-b872994a3cba",
     "showTitle": false,
     "title": ""
    }
   },
   "outputs": [],
   "source": [
    "people=[{'name':'Alice','age':30},{'name':\"Bob\",'age':25},{'name':'Charlie','age':35}]#Sort using age"
   ]
  },
  {
   "cell_type": "code",
   "execution_count": 0,
   "metadata": {
    "application/vnd.databricks.v1+cell": {
     "cellMetadata": {},
     "inputWidgets": {},
     "nuid": "f83dfb79-3fdd-4e1c-b0ce-41b7c6aa7c50",
     "showTitle": false,
     "title": ""
    }
   },
   "outputs": [],
   "source": [
    "sorted(people,key=lambda i:i['age'])"
   ]
  }
 ],
 "metadata": {
  "application/vnd.databricks.v1+notebook": {
   "dashboards": [],
   "language": "python",
   "notebookMetadata": {},
   "notebookName": "Saakshi19SeptRecursiveDecorator",
   "widgets": {}
  },
  "kernelspec": {
   "display_name": "Python 3 (ipykernel)",
   "language": "python",
   "name": "python3"
  },
  "language_info": {
   "codemirror_mode": {
    "name": "ipython",
    "version": 3
   },
   "file_extension": ".py",
   "mimetype": "text/x-python",
   "name": "python",
   "nbconvert_exporter": "python",
   "pygments_lexer": "ipython3",
   "version": "3.11.4"
  }
 },
 "nbformat": 4,
 "nbformat_minor": 0
}
